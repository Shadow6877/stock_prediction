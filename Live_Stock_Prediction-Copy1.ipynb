{
 "cells": [
  {
   "cell_type": "code",
   "execution_count": 1,
   "id": "f91eb4e9",
   "metadata": {},
   "outputs": [],
   "source": [
    "import numpy as np\n",
    "import pandas as pd\n",
    "import yfinance as yf\n",
    "import datetime as dt\n",
    "import seaborn as sns\n",
    "import numpy as np\n",
    "import matplotlib.pyplot as plt\n",
    "import matplotlib.pyplot as plt\n",
    "from sklearn.preprocessing import MinMaxScaler\n",
    "import pandas_datareader as df\n",
    "from keras.models import load_model\n",
    "from keras.models import Sequential\n",
    "from keras.layers import Dense, LSTM"
   ]
  },
  {
   "cell_type": "code",
   "execution_count": 2,
   "id": "ee00f18c",
   "metadata": {},
   "outputs": [],
   "source": [
    "#See the yahoo finance ticker for your stock symbol\n",
    "stock_symbol = 'FORTIS.NS'"
   ]
  },
  {
   "cell_type": "code",
   "execution_count": 3,
   "id": "d365868a",
   "metadata": {},
   "outputs": [
    {
     "name": "stdout",
     "output_type": "stream",
     "text": [
      "[*********************100%***********************]  1 of 1 completed\n"
     ]
    }
   ],
   "source": [
    "#last 5 years data with interval of 1 day\n",
    "end_date = dt.datetime.strptime(\"2022-03-10\", \"%Y-%m-%d\").date()\n",
    "start_date=end_date-dt.timedelta(days=365*5)\n",
    "data = yf.download(tickers=stock_symbol,start=start_date,end=end_date,interval='1d')"
   ]
  },
  {
   "cell_type": "code",
   "execution_count": 4,
   "id": "9f82e205",
   "metadata": {},
   "outputs": [
    {
     "data": {
      "text/plain": [
       "pandas.core.frame.DataFrame"
      ]
     },
     "execution_count": 4,
     "metadata": {},
     "output_type": "execute_result"
    }
   ],
   "source": [
    "type(data)"
   ]
  },
  {
   "cell_type": "code",
   "execution_count": 5,
   "id": "dbbe3e6b",
   "metadata": {},
   "outputs": [
    {
     "data": {
      "text/html": [
       "<div>\n",
       "<style scoped>\n",
       "    .dataframe tbody tr th:only-of-type {\n",
       "        vertical-align: middle;\n",
       "    }\n",
       "\n",
       "    .dataframe tbody tr th {\n",
       "        vertical-align: top;\n",
       "    }\n",
       "\n",
       "    .dataframe thead th {\n",
       "        text-align: right;\n",
       "    }\n",
       "</style>\n",
       "<table border=\"1\" class=\"dataframe\">\n",
       "  <thead>\n",
       "    <tr style=\"text-align: right;\">\n",
       "      <th></th>\n",
       "      <th>Open</th>\n",
       "      <th>High</th>\n",
       "      <th>Low</th>\n",
       "      <th>Close</th>\n",
       "      <th>Adj Close</th>\n",
       "      <th>Volume</th>\n",
       "    </tr>\n",
       "    <tr>\n",
       "      <th>Date</th>\n",
       "      <th></th>\n",
       "      <th></th>\n",
       "      <th></th>\n",
       "      <th></th>\n",
       "      <th></th>\n",
       "      <th></th>\n",
       "    </tr>\n",
       "  </thead>\n",
       "  <tbody>\n",
       "    <tr>\n",
       "      <th>2017-03-14</th>\n",
       "      <td>180.850006</td>\n",
       "      <td>183.600006</td>\n",
       "      <td>178.300003</td>\n",
       "      <td>179.100006</td>\n",
       "      <td>179.100006</td>\n",
       "      <td>4900197</td>\n",
       "    </tr>\n",
       "    <tr>\n",
       "      <th>2017-03-15</th>\n",
       "      <td>179.899994</td>\n",
       "      <td>186.199997</td>\n",
       "      <td>179.250000</td>\n",
       "      <td>183.050003</td>\n",
       "      <td>183.050003</td>\n",
       "      <td>2896207</td>\n",
       "    </tr>\n",
       "    <tr>\n",
       "      <th>2017-03-16</th>\n",
       "      <td>185.000000</td>\n",
       "      <td>185.800003</td>\n",
       "      <td>183.300003</td>\n",
       "      <td>185.300003</td>\n",
       "      <td>185.300003</td>\n",
       "      <td>779120</td>\n",
       "    </tr>\n",
       "    <tr>\n",
       "      <th>2017-03-17</th>\n",
       "      <td>185.550003</td>\n",
       "      <td>186.500000</td>\n",
       "      <td>182.350006</td>\n",
       "      <td>183.449997</td>\n",
       "      <td>183.449997</td>\n",
       "      <td>918216</td>\n",
       "    </tr>\n",
       "    <tr>\n",
       "      <th>2017-03-20</th>\n",
       "      <td>183.550003</td>\n",
       "      <td>184.699997</td>\n",
       "      <td>179.100006</td>\n",
       "      <td>179.699997</td>\n",
       "      <td>179.699997</td>\n",
       "      <td>1893090</td>\n",
       "    </tr>\n",
       "  </tbody>\n",
       "</table>\n",
       "</div>"
      ],
      "text/plain": [
       "                  Open        High         Low       Close   Adj Close  \\\n",
       "Date                                                                     \n",
       "2017-03-14  180.850006  183.600006  178.300003  179.100006  179.100006   \n",
       "2017-03-15  179.899994  186.199997  179.250000  183.050003  183.050003   \n",
       "2017-03-16  185.000000  185.800003  183.300003  185.300003  185.300003   \n",
       "2017-03-17  185.550003  186.500000  182.350006  183.449997  183.449997   \n",
       "2017-03-20  183.550003  184.699997  179.100006  179.699997  179.699997   \n",
       "\n",
       "             Volume  \n",
       "Date                 \n",
       "2017-03-14  4900197  \n",
       "2017-03-15  2896207  \n",
       "2017-03-16   779120  \n",
       "2017-03-17   918216  \n",
       "2017-03-20  1893090  "
      ]
     },
     "execution_count": 5,
     "metadata": {},
     "output_type": "execute_result"
    }
   ],
   "source": [
    "data.head()"
   ]
  },
  {
   "cell_type": "code",
   "execution_count": 6,
   "id": "9d445949",
   "metadata": {},
   "outputs": [
    {
     "data": {
      "text/plain": [
       "1234"
      ]
     },
     "execution_count": 6,
     "metadata": {},
     "output_type": "execute_result"
    }
   ],
   "source": [
    "len(data)"
   ]
  },
  {
   "cell_type": "code",
   "execution_count": 7,
   "id": "bf283ad5",
   "metadata": {},
   "outputs": [
    {
     "data": {
      "text/html": [
       "<div>\n",
       "<style scoped>\n",
       "    .dataframe tbody tr th:only-of-type {\n",
       "        vertical-align: middle;\n",
       "    }\n",
       "\n",
       "    .dataframe tbody tr th {\n",
       "        vertical-align: top;\n",
       "    }\n",
       "\n",
       "    .dataframe thead th {\n",
       "        text-align: right;\n",
       "    }\n",
       "</style>\n",
       "<table border=\"1\" class=\"dataframe\">\n",
       "  <thead>\n",
       "    <tr style=\"text-align: right;\">\n",
       "      <th></th>\n",
       "      <th>Open</th>\n",
       "      <th>High</th>\n",
       "      <th>Low</th>\n",
       "      <th>Close</th>\n",
       "      <th>Adj Close</th>\n",
       "      <th>Volume</th>\n",
       "    </tr>\n",
       "    <tr>\n",
       "      <th>Date</th>\n",
       "      <th></th>\n",
       "      <th></th>\n",
       "      <th></th>\n",
       "      <th></th>\n",
       "      <th></th>\n",
       "      <th></th>\n",
       "    </tr>\n",
       "  </thead>\n",
       "  <tbody>\n",
       "    <tr>\n",
       "      <th>2022-03-03</th>\n",
       "      <td>248.199997</td>\n",
       "      <td>272.350006</td>\n",
       "      <td>248.199997</td>\n",
       "      <td>267.000000</td>\n",
       "      <td>267.000000</td>\n",
       "      <td>3808322</td>\n",
       "    </tr>\n",
       "    <tr>\n",
       "      <th>2022-03-04</th>\n",
       "      <td>262.000000</td>\n",
       "      <td>265.649994</td>\n",
       "      <td>257.600006</td>\n",
       "      <td>263.500000</td>\n",
       "      <td>263.500000</td>\n",
       "      <td>903234</td>\n",
       "    </tr>\n",
       "    <tr>\n",
       "      <th>2022-03-07</th>\n",
       "      <td>254.500000</td>\n",
       "      <td>258.750000</td>\n",
       "      <td>251.000000</td>\n",
       "      <td>256.549988</td>\n",
       "      <td>256.549988</td>\n",
       "      <td>716152</td>\n",
       "    </tr>\n",
       "    <tr>\n",
       "      <th>2022-03-08</th>\n",
       "      <td>259.799988</td>\n",
       "      <td>262.299988</td>\n",
       "      <td>253.449997</td>\n",
       "      <td>259.350006</td>\n",
       "      <td>259.350006</td>\n",
       "      <td>1599481</td>\n",
       "    </tr>\n",
       "    <tr>\n",
       "      <th>2022-03-09</th>\n",
       "      <td>259.799988</td>\n",
       "      <td>265.000000</td>\n",
       "      <td>257.200012</td>\n",
       "      <td>264.299988</td>\n",
       "      <td>264.299988</td>\n",
       "      <td>2638347</td>\n",
       "    </tr>\n",
       "  </tbody>\n",
       "</table>\n",
       "</div>"
      ],
      "text/plain": [
       "                  Open        High         Low       Close   Adj Close  \\\n",
       "Date                                                                     \n",
       "2022-03-03  248.199997  272.350006  248.199997  267.000000  267.000000   \n",
       "2022-03-04  262.000000  265.649994  257.600006  263.500000  263.500000   \n",
       "2022-03-07  254.500000  258.750000  251.000000  256.549988  256.549988   \n",
       "2022-03-08  259.799988  262.299988  253.449997  259.350006  259.350006   \n",
       "2022-03-09  259.799988  265.000000  257.200012  264.299988  264.299988   \n",
       "\n",
       "             Volume  \n",
       "Date                 \n",
       "2022-03-03  3808322  \n",
       "2022-03-04   903234  \n",
       "2022-03-07   716152  \n",
       "2022-03-08  1599481  \n",
       "2022-03-09  2638347  "
      ]
     },
     "execution_count": 7,
     "metadata": {},
     "output_type": "execute_result"
    }
   ],
   "source": [
    "data.tail()"
   ]
  },
  {
   "cell_type": "code",
   "execution_count": 8,
   "id": "6292e20a",
   "metadata": {},
   "outputs": [],
   "source": [
    "opn = data[['Open']]"
   ]
  },
  {
   "cell_type": "code",
   "execution_count": 9,
   "id": "21e132d8",
   "metadata": {},
   "outputs": [
    {
     "data": {
      "text/plain": [
       "<AxesSubplot:xlabel='Date'>"
      ]
     },
     "execution_count": 9,
     "metadata": {},
     "output_type": "execute_result"
    },
    {
     "data": {
      "image/png": "[encoded data removed]",
      "text/plain": [
       "<Figure size 432x288 with 1 Axes>"
      ]
     },
     "metadata": {
      "needs_background": "light"
     },
     "output_type": "display_data"
    }
   ],
   "source": [
    "opn.plot()"
   ]
  },
  {
   "cell_type": "code",
   "execution_count": 10,
   "id": "c5194440",
   "metadata": {},
   "outputs": [],
   "source": [
    "import matplotlib.pyplot as plt"
   ]
  },
  {
   "cell_type": "code",
   "execution_count": 11,
   "id": "8038cb6a",
   "metadata": {},
   "outputs": [],
   "source": [
    "#close=data[['Close']]\n",
    "ds = opn.values"
   ]
  },
  {
   "cell_type": "code",
   "execution_count": 12,
   "id": "69b08672",
   "metadata": {},
   "outputs": [
    {
     "data": {
      "text/plain": [
       "array([[180.8500061 ],\n",
       "       [179.8999939 ],\n",
       "       [185.        ],\n",
       "       ...,\n",
       "       [254.5       ],\n",
       "       [259.79998779],\n",
       "       [259.79998779]])"
      ]
     },
     "execution_count": 12,
     "metadata": {},
     "output_type": "execute_result"
    }
   ],
   "source": [
    "ds"
   ]
  },
  {
   "cell_type": "code",
   "execution_count": 13,
   "id": "af022e3c",
   "metadata": {},
   "outputs": [
    {
     "data": {
      "text/plain": [
       "[<matplotlib.lines.Line2D at 0x2728871ddf0>]"
      ]
     },
     "execution_count": 13,
     "metadata": {},
     "output_type": "execute_result"
    },
    {
     "data": {
      "image/png": "[encoded data removed]",
      "text/plain": [
       "<Figure size 432x288 with 1 Axes>"
      ]
     },
     "metadata": {
      "needs_background": "light"
     },
     "output_type": "display_data"
    }
   ],
   "source": [
    "plt.plot(ds)"
   ]
  },
  {
   "cell_type": "code",
   "execution_count": 14,
   "id": "0e73b789",
   "metadata": {},
   "outputs": [],
   "source": [
    "import numpy as np"
   ]
  },
  {
   "cell_type": "code",
   "execution_count": 15,
   "id": "0e6c1c22",
   "metadata": {},
   "outputs": [],
   "source": [
    "from sklearn.preprocessing import MinMaxScaler"
   ]
  },
  {
   "cell_type": "code",
   "execution_count": 16,
   "id": "cf6a3e1b",
   "metadata": {},
   "outputs": [],
   "source": [
    "#Using MinMaxScaler for normalizing data between 0 & 1\n",
    "normalizer = MinMaxScaler(feature_range=(0,1))\n",
    "ds_scaled = normalizer.fit_transform(np.array(ds).reshape(-1,1))"
   ]
  },
  {
   "cell_type": "code",
   "execution_count": 17,
   "id": "b54afc31",
   "metadata": {},
   "outputs": [
    {
     "name": "stdout",
     "output_type": "stream",
     "text": [
      "[[0.34425003]\n",
      " [0.33949997]\n",
      " [0.365     ]\n",
      " ...\n",
      " [0.7125    ]\n",
      " [0.73899994]\n",
      " [0.73899994]]\n"
     ]
    }
   ],
   "source": [
    "print(ds_scaled)"
   ]
  },
  {
   "cell_type": "code",
   "execution_count": 18,
   "id": "7dbea1d5",
   "metadata": {},
   "outputs": [
    {
     "data": {
      "text/plain": [
       "(1234, 1234)"
      ]
     },
     "execution_count": 18,
     "metadata": {},
     "output_type": "execute_result"
    }
   ],
   "source": [
    "len(ds_scaled), len(ds)"
   ]
  },
  {
   "cell_type": "code",
   "execution_count": 19,
   "id": "a20c5654",
   "metadata": {},
   "outputs": [],
   "source": [
    "#Defining test and train data sizes\n",
    "train_size = int(len(ds_scaled)*0.70)\n",
    "test_size = len(ds_scaled) - train_size"
   ]
  },
  {
   "cell_type": "code",
   "execution_count": 20,
   "id": "b964aa4e",
   "metadata": {},
   "outputs": [
    {
     "data": {
      "text/plain": [
       "(863, 371)"
      ]
     },
     "execution_count": 20,
     "metadata": {},
     "output_type": "execute_result"
    }
   ],
   "source": [
    "train_size,test_size"
   ]
  },
  {
   "cell_type": "code",
   "execution_count": 21,
   "id": "25ca615e",
   "metadata": {},
   "outputs": [],
   "source": [
    "#Splitting data between train and test\n",
    "ds_train, ds_test = ds_scaled[0:train_size,:], ds_scaled[train_size:len(ds_scaled),:1]"
   ]
  },
  {
   "cell_type": "code",
   "execution_count": 22,
   "id": "95913f28",
   "metadata": {},
   "outputs": [
    {
     "data": {
      "text/plain": [
       "(863, 371)"
      ]
     },
     "execution_count": 22,
     "metadata": {},
     "output_type": "execute_result"
    }
   ],
   "source": [
    "len(ds_train),len(ds_test)"
   ]
  },
  {
   "cell_type": "code",
   "execution_count": 23,
   "id": "5dd0b45e",
   "metadata": {},
   "outputs": [],
   "source": [
    "#creating dataset in time series for LSTM model \n",
    "#X[100,120,140,160,180] : Y[200]\n",
    "def create_ds(dataset,step):\n",
    "    Xtrain, Ytrain = [], []\n",
    "    for i in range(len(dataset)-step-1):\n",
    "        a = dataset[i:(i+step), 0]\n",
    "        Xtrain.append(a)\n",
    "        Ytrain.append(dataset[i + step, 0])\n",
    "    return np.array(Xtrain), np.array(Ytrain)"
   ]
  },
  {
   "cell_type": "code",
   "execution_count": 24,
   "id": "d28b7d1d",
   "metadata": {},
   "outputs": [],
   "source": [
    "#Taking 100 days price as one record for training\n",
    "time_stamp = 30\n",
    "X_train, y_train = create_ds(ds_train,time_stamp)\n",
    "X_test, y_test = create_ds(ds_test,time_stamp)"
   ]
  },
  {
   "cell_type": "code",
   "execution_count": 25,
   "id": "03ce9096",
   "metadata": {},
   "outputs": [
    {
     "data": {
      "text/plain": [
       "((832, 30), (832,))"
      ]
     },
     "execution_count": 25,
     "metadata": {},
     "output_type": "execute_result"
    }
   ],
   "source": [
    "X_train.shape,y_train.shape"
   ]
  },
  {
   "cell_type": "code",
   "execution_count": 26,
   "id": "84acdd72",
   "metadata": {},
   "outputs": [
    {
     "data": {
      "text/plain": [
       "((340, 30), (340,))"
      ]
     },
     "execution_count": 26,
     "metadata": {},
     "output_type": "execute_result"
    }
   ],
   "source": [
    "X_test.shape, y_test.shape"
   ]
  },
  {
   "cell_type": "code",
   "execution_count": 27,
   "id": "c657d193",
   "metadata": {},
   "outputs": [],
   "source": [
    "#Reshaping data to fit into LSTM model\n",
    "X_train = X_train.reshape(X_train.shape[0],X_train.shape[1] , 1)\n",
    "X_test = X_test.reshape(X_test.shape[0],X_test.shape[1] , 1)"
   ]
  },
  {
   "cell_type": "code",
   "execution_count": 28,
   "id": "82844671",
   "metadata": {},
   "outputs": [],
   "source": [
    "from keras.models import Sequential\n",
    "from keras.layers import Dense, LSTM"
   ]
  },
  {
   "cell_type": "code",
   "execution_count": 29,
   "id": "b5250913",
   "metadata": {},
   "outputs": [
    {
     "name": "stdout",
     "output_type": "stream",
     "text": [
      "Model: \"sequential\"\n",
      "_________________________________________________________________\n",
      " Layer (type)                Output Shape              Param #   \n",
      "=================================================================\n",
      " lstm (LSTM)                 (None, 30, 50)            10400     \n",
      "                                                                 \n",
      " lstm_1 (LSTM)               (None, 30, 50)            20200     \n",
      "                                                                 \n",
      " lstm_2 (LSTM)               (None, 50)                20200     \n",
      "                                                                 \n",
      " dense (Dense)               (None, 1)                 51        \n",
      "                                                                 \n",
      "=================================================================\n",
      "Total params: 50,851\n",
      "Trainable params: 50,851\n",
      "Non-trainable params: 0\n",
      "_________________________________________________________________\n"
     ]
    }
   ],
   "source": [
    "#Creating LSTM model using keras\n",
    "model = Sequential()\n",
    "model.add(LSTM(units=50,return_sequences=True,input_shape=(X_train.shape[1],1)))\n",
    "model.add(LSTM(units=50,return_sequences=True))\n",
    "model.add(LSTM(units=50))\n",
    "model.add(Dense(units=1))\n",
    "model.compile(loss='mean_squared_error',optimizer='adam')\n",
    "model.summary()"
   ]
  },
  {
   "cell_type": "code",
   "execution_count": 30,
   "id": "7e8ff062",
   "metadata": {},
   "outputs": [
    {
     "name": "stdout",
     "output_type": "stream",
     "text": [
      "Epoch 1/80\n",
      "13/13 [==============================] - 7s 156ms/step - loss: 0.0086 - val_loss: 0.1062\n",
      "Epoch 2/80\n",
      "13/13 [==============================] - 1s 66ms/step - loss: 0.0030 - val_loss: 0.0203\n",
      "Epoch 3/80\n",
      "13/13 [==============================] - 1s 60ms/step - loss: 0.0020 - val_loss: 0.0059\n",
      "Epoch 4/80\n",
      "13/13 [==============================] - 1s 66ms/step - loss: 0.0018 - val_loss: 0.0085\n",
      "Epoch 5/80\n",
      "13/13 [==============================] - 1s 59ms/step - loss: 0.0016 - val_loss: 0.0077\n",
      "Epoch 6/80\n",
      "13/13 [==============================] - 1s 47ms/step - loss: 0.0016 - val_loss: 0.0055\n",
      "Epoch 7/80\n",
      "13/13 [==============================] - 1s 61ms/step - loss: 0.0014 - val_loss: 0.0044\n",
      "Epoch 8/80\n",
      "13/13 [==============================] - 1s 60ms/step - loss: 0.0013 - val_loss: 0.0039\n",
      "Epoch 9/80\n",
      "13/13 [==============================] - 1s 45ms/step - loss: 0.0013 - val_loss: 0.0056\n",
      "Epoch 10/80\n",
      "13/13 [==============================] - 1s 50ms/step - loss: 0.0013 - val_loss: 0.0032\n",
      "Epoch 11/80\n",
      "13/13 [==============================] - 1s 58ms/step - loss: 0.0013 - val_loss: 0.0050\n",
      "Epoch 12/80\n",
      "13/13 [==============================] - 1s 56ms/step - loss: 0.0013 - val_loss: 0.0060\n",
      "Epoch 13/80\n",
      "13/13 [==============================] - 1s 62ms/step - loss: 0.0012 - val_loss: 0.0032\n",
      "Epoch 14/80\n",
      "13/13 [==============================] - 1s 51ms/step - loss: 0.0012 - val_loss: 0.0028\n",
      "Epoch 15/80\n",
      "13/13 [==============================] - 1s 55ms/step - loss: 0.0012 - val_loss: 0.0062\n",
      "Epoch 16/80\n",
      "13/13 [==============================] - 1s 62ms/step - loss: 0.0011 - val_loss: 0.0047\n",
      "Epoch 17/80\n",
      "13/13 [==============================] - 1s 58ms/step - loss: 0.0010 - val_loss: 0.0030\n",
      "Epoch 18/80\n",
      "13/13 [==============================] - 1s 59ms/step - loss: 9.8388e-04 - val_loss: 0.0032\n",
      "Epoch 19/80\n",
      "13/13 [==============================] - 1s 53ms/step - loss: 9.6816e-04 - val_loss: 0.0039\n",
      "Epoch 20/80\n",
      "13/13 [==============================] - 1s 56ms/step - loss: 9.5510e-04 - val_loss: 0.0027\n",
      "Epoch 21/80\n",
      "13/13 [==============================] - 1s 57ms/step - loss: 9.7909e-04 - val_loss: 0.0032\n",
      "Epoch 22/80\n",
      "13/13 [==============================] - 1s 52ms/step - loss: 9.3102e-04 - val_loss: 0.0024\n",
      "Epoch 23/80\n",
      "13/13 [==============================] - 1s 58ms/step - loss: 8.8676e-04 - val_loss: 0.0022\n",
      "Epoch 24/80\n",
      "13/13 [==============================] - 1s 62ms/step - loss: 8.7157e-04 - val_loss: 0.0026\n",
      "Epoch 25/80\n",
      "13/13 [==============================] - 1s 59ms/step - loss: 8.6537e-04 - val_loss: 0.0022\n",
      "Epoch 26/80\n",
      "13/13 [==============================] - 1s 52ms/step - loss: 8.4796e-04 - val_loss: 0.0021\n",
      "Epoch 27/80\n",
      "13/13 [==============================] - 1s 52ms/step - loss: 8.5609e-04 - val_loss: 0.0034\n",
      "Epoch 28/80\n",
      "13/13 [==============================] - 1s 58ms/step - loss: 8.2842e-04 - val_loss: 0.0019\n",
      "Epoch 29/80\n",
      "13/13 [==============================] - 1s 56ms/step - loss: 8.0930e-04 - val_loss: 0.0021\n",
      "Epoch 30/80\n",
      "13/13 [==============================] - 1s 49ms/step - loss: 7.8747e-04 - val_loss: 0.0020\n",
      "Epoch 31/80\n",
      "13/13 [==============================] - 1s 47ms/step - loss: 7.5800e-04 - val_loss: 0.0021\n",
      "Epoch 32/80\n",
      "13/13 [==============================] - 1s 50ms/step - loss: 7.4175e-04 - val_loss: 0.0020\n",
      "Epoch 33/80\n",
      "13/13 [==============================] - 1s 47ms/step - loss: 7.3917e-04 - val_loss: 0.0018\n",
      "Epoch 34/80\n",
      "13/13 [==============================] - 1s 44ms/step - loss: 7.0756e-04 - val_loss: 0.0022\n",
      "Epoch 35/80\n",
      "13/13 [==============================] - 1s 44ms/step - loss: 7.1115e-04 - val_loss: 0.0017\n",
      "Epoch 36/80\n",
      "13/13 [==============================] - 1s 43ms/step - loss: 6.9189e-04 - val_loss: 0.0017\n",
      "Epoch 37/80\n",
      "13/13 [==============================] - 1s 50ms/step - loss: 6.9524e-04 - val_loss: 0.0016\n",
      "Epoch 38/80\n",
      "13/13 [==============================] - 1s 46ms/step - loss: 6.4107e-04 - val_loss: 0.0015\n",
      "Epoch 39/80\n",
      "13/13 [==============================] - 1s 48ms/step - loss: 6.3917e-04 - val_loss: 0.0021\n",
      "Epoch 40/80\n",
      "13/13 [==============================] - 1s 43ms/step - loss: 6.5504e-04 - val_loss: 0.0017\n",
      "Epoch 41/80\n",
      "13/13 [==============================] - 1s 46ms/step - loss: 6.0726e-04 - val_loss: 0.0018\n",
      "Epoch 42/80\n",
      "13/13 [==============================] - 1s 58ms/step - loss: 6.0296e-04 - val_loss: 0.0014\n",
      "Epoch 43/80\n",
      "13/13 [==============================] - 1s 48ms/step - loss: 5.8724e-04 - val_loss: 0.0013\n",
      "Epoch 44/80\n",
      "13/13 [==============================] - 1s 57ms/step - loss: 5.8233e-04 - val_loss: 0.0019\n",
      "Epoch 45/80\n",
      "13/13 [==============================] - 1s 67ms/step - loss: 5.3951e-04 - val_loss: 0.0018\n",
      "Epoch 46/80\n",
      "13/13 [==============================] - 1s 55ms/step - loss: 5.8354e-04 - val_loss: 0.0016\n",
      "Epoch 47/80\n",
      "13/13 [==============================] - 1s 60ms/step - loss: 5.9551e-04 - val_loss: 0.0012\n",
      "Epoch 48/80\n",
      "13/13 [==============================] - 1s 50ms/step - loss: 5.1158e-04 - val_loss: 0.0013\n",
      "Epoch 49/80\n",
      "13/13 [==============================] - 1s 56ms/step - loss: 5.2526e-04 - val_loss: 0.0015\n",
      "Epoch 50/80\n",
      "13/13 [==============================] - 1s 75ms/step - loss: 5.1735e-04 - val_loss: 0.0016\n",
      "Epoch 51/80\n",
      "13/13 [==============================] - 1s 74ms/step - loss: 5.0310e-04 - val_loss: 0.0011\n",
      "Epoch 52/80\n",
      "13/13 [==============================] - 1s 62ms/step - loss: 4.8365e-04 - val_loss: 0.0038\n",
      "Epoch 53/80\n",
      "13/13 [==============================] - 1s 75ms/step - loss: 5.5152e-04 - val_loss: 0.0012\n",
      "Epoch 54/80\n",
      "13/13 [==============================] - 1s 95ms/step - loss: 4.5636e-04 - val_loss: 0.0014\n",
      "Epoch 55/80\n",
      "13/13 [==============================] - 1s 104ms/step - loss: 4.5185e-04 - val_loss: 0.0011\n",
      "Epoch 56/80\n",
      "13/13 [==============================] - 1s 93ms/step - loss: 4.5831e-04 - val_loss: 0.0016\n",
      "Epoch 57/80\n",
      "13/13 [==============================] - 1s 73ms/step - loss: 4.4232e-04 - val_loss: 0.0014\n",
      "Epoch 58/80\n",
      "13/13 [==============================] - 1s 75ms/step - loss: 4.5232e-04 - val_loss: 0.0014\n",
      "Epoch 59/80\n",
      "13/13 [==============================] - 1s 58ms/step - loss: 4.3354e-04 - val_loss: 0.0012\n",
      "Epoch 60/80\n",
      "13/13 [==============================] - 1s 69ms/step - loss: 4.2153e-04 - val_loss: 0.0011\n",
      "Epoch 61/80\n",
      "13/13 [==============================] - 1s 55ms/step - loss: 4.0603e-04 - val_loss: 0.0031\n",
      "Epoch 62/80\n",
      "13/13 [==============================] - 1s 47ms/step - loss: 4.4652e-04 - val_loss: 0.0013\n",
      "Epoch 63/80\n",
      "13/13 [==============================] - 1s 51ms/step - loss: 4.0781e-04 - val_loss: 0.0012\n",
      "Epoch 64/80\n",
      "13/13 [==============================] - 1s 50ms/step - loss: 3.9314e-04 - val_loss: 0.0018\n",
      "Epoch 65/80\n",
      "13/13 [==============================] - 1s 48ms/step - loss: 4.1491e-04 - val_loss: 0.0012\n",
      "Epoch 66/80\n",
      "13/13 [==============================] - 1s 48ms/step - loss: 4.4708e-04 - val_loss: 0.0016\n",
      "Epoch 67/80\n",
      "13/13 [==============================] - 1s 46ms/step - loss: 4.3337e-04 - val_loss: 0.0013\n",
      "Epoch 68/80\n",
      "13/13 [==============================] - 1s 51ms/step - loss: 4.0059e-04 - val_loss: 0.0018\n",
      "Epoch 69/80\n",
      "13/13 [==============================] - 1s 50ms/step - loss: 3.8314e-04 - val_loss: 0.0014\n",
      "Epoch 70/80\n",
      "13/13 [==============================] - 1s 47ms/step - loss: 4.7191e-04 - val_loss: 0.0013\n",
      "Epoch 71/80\n",
      "13/13 [==============================] - 1s 50ms/step - loss: 5.0932e-04 - val_loss: 0.0017\n",
      "Epoch 72/80\n",
      "13/13 [==============================] - 1s 69ms/step - loss: 4.0248e-04 - val_loss: 0.0015\n",
      "Epoch 73/80\n",
      "13/13 [==============================] - 1s 58ms/step - loss: 4.0337e-04 - val_loss: 0.0012\n",
      "Epoch 74/80\n",
      "13/13 [==============================] - 1s 51ms/step - loss: 3.7631e-04 - val_loss: 0.0012\n",
      "Epoch 75/80\n",
      "13/13 [==============================] - 1s 58ms/step - loss: 3.8156e-04 - val_loss: 0.0012\n",
      "Epoch 76/80\n",
      "13/13 [==============================] - 1s 55ms/step - loss: 3.8184e-04 - val_loss: 0.0015\n",
      "Epoch 77/80\n",
      "13/13 [==============================] - 1s 60ms/step - loss: 4.3443e-04 - val_loss: 0.0016\n",
      "Epoch 78/80\n",
      "13/13 [==============================] - 1s 48ms/step - loss: 4.1563e-04 - val_loss: 0.0014\n",
      "Epoch 79/80\n",
      "13/13 [==============================] - 1s 46ms/step - loss: 3.8012e-04 - val_loss: 0.0014\n",
      "Epoch 80/80\n"
     ]
    },
    {
     "name": "stdout",
     "output_type": "stream",
     "text": [
      "13/13 [==============================] - 1s 48ms/step - loss: 3.7273e-04 - val_loss: 0.0013\n"
     ]
    },
    {
     "data": {
      "text/plain": [
       "<keras.callbacks.History at 0x2728fce3f70>"
      ]
     },
     "execution_count": 30,
     "metadata": {},
     "output_type": "execute_result"
    }
   ],
   "source": [
    "#Training model with adam optimizer and mean squared error loss function\n",
    "model.fit(X_train,y_train,validation_data=(X_test,y_test),epochs=80,batch_size=64,verbose=1)"
   ]
  },
  {
   "cell_type": "code",
   "execution_count": 31,
   "id": "0ae62ed1",
   "metadata": {},
   "outputs": [],
   "source": [
    "model.save('keras.model.h5')"
   ]
  },
  {
   "cell_type": "code",
   "execution_count": 32,
   "id": "18b1ba6a",
   "metadata": {},
   "outputs": [
    {
     "data": {
      "text/plain": [
       "[<matplotlib.lines.Line2D at 0x272987e7d00>]"
      ]
     },
     "execution_count": 32,
     "metadata": {},
     "output_type": "execute_result"
    },
    {
     "data": {
      "image/png": "[encoded data removed]",
      "text/plain": [
       "<Figure size 432x288 with 1 Axes>"
      ]
     },
     "metadata": {
      "needs_background": "light"
     },
     "output_type": "display_data"
    }
   ],
   "source": [
    "#PLotting loss, it shows that loss has decreased significantly and model trained well\n",
    "loss = model.history.history['loss']\n",
    "plt.plot(loss)"
   ]
  },
  {
   "cell_type": "code",
   "execution_count": 33,
   "id": "3e7f2fc8",
   "metadata": {},
   "outputs": [],
   "source": [
    "#Predicitng on train and test data\n",
    "train_predict = model.predict(X_train)\n",
    "test_predict = model.predict(X_test)"
   ]
  },
  {
   "cell_type": "code",
   "execution_count": 34,
   "id": "c2d6c2d5",
   "metadata": {},
   "outputs": [],
   "source": [
    "#Inverse transform to get actual value\n",
    "train_predict = normalizer.inverse_transform(train_predict)\n",
    "test_predict = normalizer.inverse_transform(test_predict)"
   ]
  },
  {
   "cell_type": "code",
   "execution_count": 35,
   "id": "f258b978",
   "metadata": {},
   "outputs": [
    {
     "data": {
      "text/plain": [
       "143.0637541843875"
      ]
     },
     "execution_count": 35,
     "metadata": {},
     "output_type": "execute_result"
    }
   ],
   "source": [
    "### Calculate RMSE performance metrics\n",
    "import math\n",
    "from sklearn.metrics import mean_squared_error\n",
    "math.sqrt(mean_squared_error(y_train,train_predict))"
   ]
  },
  {
   "cell_type": "code",
   "execution_count": 36,
   "id": "2e677066",
   "metadata": {},
   "outputs": [
    {
     "data": {
      "text/plain": [
       "229.56749009649477"
      ]
     },
     "execution_count": 36,
     "metadata": {},
     "output_type": "execute_result"
    }
   ],
   "source": [
    "math.sqrt(mean_squared_error(y_test,test_predict))"
   ]
  },
  {
   "cell_type": "code",
   "execution_count": 37,
   "id": "c1375e52",
   "metadata": {},
   "outputs": [],
   "source": [
    "look_back=30\n",
    "trainPredictPlot = np.empty_like(ds_scaled)\n",
    "trainPredictPlot[:, :] = np.nan\n",
    "trainPredictPlot[look_back:len(train_predict)+look_back, :] = train_predict\n",
    "# shift test predictions for plotting\n",
    "testPredictPlot = np.empty_like(ds_scaled)\n",
    "testPredictPlot[:, :] = np.nan\n",
    "testPredictPlot[len(train_predict)+(look_back*2)+1:len(ds_scaled)-1,:] = test_predict"
   ]
  },
  {
   "cell_type": "code",
   "execution_count": 38,
   "id": "9d0543ad",
   "metadata": {},
   "outputs": [
    {
     "data": {
      "image/png": "[encoded data removed]",
      "text/plain": [
       "<Figure size 432x288 with 1 Axes>"
      ]
     },
     "metadata": {
      "needs_background": "light"
     },
     "output_type": "display_data"
    }
   ],
   "source": [
    "#Comparing using visuals\n",
    "plt.plot(normalizer.inverse_transform(ds_scaled))\n",
    "plt.plot(trainPredictPlot)\n",
    "plt.plot(testPredictPlot)\n",
    "plt.show()"
   ]
  },
  {
   "cell_type": "code",
   "execution_count": 39,
   "id": "55300bae",
   "metadata": {},
   "outputs": [
    {
     "data": {
      "text/plain": [
       "numpy.ndarray"
      ]
     },
     "execution_count": 39,
     "metadata": {},
     "output_type": "execute_result"
    }
   ],
   "source": [
    "type(train_predict)"
   ]
  },
  {
   "cell_type": "code",
   "execution_count": 40,
   "id": "bf6d5613",
   "metadata": {},
   "outputs": [],
   "source": [
    "test = np.vstack((train_predict,test_predict))"
   ]
  },
  {
   "cell_type": "code",
   "execution_count": 41,
   "id": "41b272ff",
   "metadata": {},
   "outputs": [
    {
     "data": {
      "text/plain": [
       "[<matplotlib.lines.Line2D at 0x2729acbf100>]"
      ]
     },
     "execution_count": 41,
     "metadata": {},
     "output_type": "execute_result"
    },
    {
     "data": {
      "image/png": "[encoded data removed]",
      "text/plain": [
       "<Figure size 432x288 with 1 Axes>"
      ]
     },
     "metadata": {
      "needs_background": "light"
     },
     "output_type": "display_data"
    }
   ],
   "source": [
    "#Combining the predited data to create uniform data visualization\n",
    "plt.plot(normalizer.inverse_transform(ds_scaled))\n",
    "plt.plot(test)"
   ]
  },
  {
   "cell_type": "code",
   "execution_count": 42,
   "id": "16af9283",
   "metadata": {},
   "outputs": [
    {
     "data": {
      "text/plain": [
       "371"
      ]
     },
     "execution_count": 42,
     "metadata": {},
     "output_type": "execute_result"
    }
   ],
   "source": [
    "len(ds_test)"
   ]
  },
  {
   "cell_type": "code",
   "execution_count": 43,
   "id": "c13df7b8",
   "metadata": {},
   "outputs": [
    {
     "name": "stdout",
     "output_type": "stream",
     "text": [
      "341\n"
     ]
    },
    {
     "data": {
      "text/plain": [
       "30"
      ]
     },
     "execution_count": 43,
     "metadata": {},
     "output_type": "execute_result"
    }
   ],
   "source": [
    "#Getting the last 100 days records\n",
    "n=len(ds_test)-30\n",
    "print(n)\n",
    "fut_inp = ds_test[n:]\n",
    "len(fut_inp)"
   ]
  },
  {
   "cell_type": "code",
   "execution_count": 44,
   "id": "52b30579",
   "metadata": {},
   "outputs": [],
   "source": [
    "fut_inp = fut_inp.reshape(1,-1)"
   ]
  },
  {
   "cell_type": "code",
   "execution_count": 45,
   "id": "ac2686a6",
   "metadata": {},
   "outputs": [],
   "source": [
    "tmp_inp = list(fut_inp)"
   ]
  },
  {
   "cell_type": "code",
   "execution_count": 46,
   "id": "dad5024f",
   "metadata": {},
   "outputs": [
    {
     "data": {
      "text/plain": [
       "(1, 30)"
      ]
     },
     "execution_count": 46,
     "metadata": {},
     "output_type": "execute_result"
    }
   ],
   "source": [
    "fut_inp.shape"
   ]
  },
  {
   "cell_type": "code",
   "execution_count": 47,
   "id": "98042a30",
   "metadata": {},
   "outputs": [],
   "source": [
    "#Creating list of the last 100 data\n",
    "tmp_inp = tmp_inp[0].tolist()"
   ]
  },
  {
   "cell_type": "code",
   "execution_count": 48,
   "id": "44799d02",
   "metadata": {},
   "outputs": [
    {
     "name": "stdout",
     "output_type": "stream",
     "text": [
      "[[0.730729877948761], [0.725854218006134], [0.7257155776023865], [0.7279932498931885], [0.7309573292732239], [0.7336234450340271], [0.735490083694458], [0.7364323139190674], [0.7365828156471252], [0.7361466884613037], [0.7352847456932068], [0.7341204285621643], [0.7327397465705872], [0.7312055826187134], [0.7295410633087158], [0.7277237772941589], [0.7257333993911743], [0.7235678434371948], [0.7212914228439331], [0.718955934047699], [0.7166124582290649], [0.7142881155014038], [0.7120704054832458], [0.709947407245636], [0.7078550457954407], [0.7057548761367798], [0.7036083936691284], [0.701342761516571], [0.698978841304779], [0.6965205073356628]]\n"
     ]
    }
   ],
   "source": [
    "#Predicting next 30 days price using the current data\n",
    "#It will predict in sliding window manner (algorithm) with stride 1\n",
    "lst_output=[]\n",
    "n_steps=30\n",
    "i=0\n",
    "while(i<30):\n",
    "    \n",
    "    if(len(tmp_inp)>30):\n",
    "        fut_inp = np.array(tmp_inp[1:])\n",
    "        fut_inp=fut_inp.reshape(1,-1)\n",
    "        fut_inp = fut_inp.reshape((1, n_steps, 1))\n",
    "        yhat = model.predict(fut_inp, verbose=0)\n",
    "        tmp_inp.extend(yhat[0].tolist())\n",
    "        tmp_inp = tmp_inp[1:]\n",
    "        lst_output.extend(yhat.tolist())\n",
    "        i=i+1\n",
    "    else:\n",
    "        fut_inp = fut_inp.reshape((1, n_steps,1))\n",
    "        yhat = model.predict(fut_inp, verbose=0)\n",
    "        tmp_inp.extend(yhat[0].tolist())\n",
    "        lst_output.extend(yhat.tolist())\n",
    "        i=i+1\n",
    "    \n",
    "\n",
    "print(lst_output)"
   ]
  },
  {
   "cell_type": "code",
   "execution_count": 49,
   "id": "d49a83e5",
   "metadata": {},
   "outputs": [
    {
     "data": {
      "text/plain": [
       "1234"
      ]
     },
     "execution_count": 49,
     "metadata": {},
     "output_type": "execute_result"
    }
   ],
   "source": [
    "len(ds_scaled)"
   ]
  },
  {
   "cell_type": "code",
   "execution_count": 50,
   "id": "49450ea7",
   "metadata": {},
   "outputs": [],
   "source": [
    "#Creating a dummy plane to plot graph one after another\n",
    "plot_new=np.arange(1,101)\n",
    "plot_pred=np.arange(101,131)"
   ]
  },
  {
   "cell_type": "code",
   "execution_count": 51,
   "id": "d98e4ff0",
   "metadata": {},
   "outputs": [
    {
     "name": "stdout",
     "output_type": "stream",
     "text": [
      "30\n",
      "[[258.14597559]\n",
      " [257.1708436 ]\n",
      " [257.14311552]\n",
      " [257.59864998]\n",
      " [258.19146585]\n",
      " [258.72468901]\n",
      " [259.09801674]\n",
      " [259.28646278]\n",
      " [259.31656313]\n",
      " [259.22933769]\n",
      " [259.05694914]\n",
      " [258.82408571]\n",
      " [258.54794931]\n",
      " [258.24111652]\n",
      " [257.90821266]\n",
      " [257.54475546]\n",
      " [257.14667988]\n",
      " [256.71356869]\n",
      " [256.25828457]\n",
      " [255.79118681]\n",
      " [255.32249165]\n",
      " [254.8576231 ]\n",
      " [254.4140811 ]\n",
      " [253.98948145]\n",
      " [253.57100916]\n",
      " [253.15097523]\n",
      " [252.72167873]\n",
      " [252.2685523 ]\n",
      " [251.79576826]\n",
      " [251.30410147]]\n"
     ]
    }
   ],
   "source": [
    "print(len(lst_output))\n",
    "print(normalizer.inverse_transform(lst_output))"
   ]
  },
  {
   "cell_type": "code",
   "execution_count": 52,
   "id": "29f84e31",
   "metadata": {},
   "outputs": [
    {
     "data": {
      "text/plain": [
       "[<matplotlib.lines.Line2D at 0x2729acf2a90>]"
      ]
     },
     "execution_count": 52,
     "metadata": {},
     "output_type": "execute_result"
    },
    {
     "data": {
      "image/png": "[encoded data removed]",
      "text/plain": [
       "<Figure size 432x288 with 1 Axes>"
      ]
     },
     "metadata": {
      "needs_background": "light"
     },
     "output_type": "display_data"
    }
   ],
   "source": [
    "plt.plot(plot_new, normalizer.inverse_transform(ds_scaled[ds_scaled.size-100:]))\n",
    "plt.plot(plot_pred, normalizer.inverse_transform(lst_output))"
   ]
  },
  {
   "cell_type": "code",
   "execution_count": 53,
   "id": "e41c9362",
   "metadata": {},
   "outputs": [],
   "source": [
    "ds_new = ds_scaled.tolist()"
   ]
  },
  {
   "cell_type": "code",
   "execution_count": 54,
   "id": "d6c8d3c1",
   "metadata": {},
   "outputs": [
    {
     "data": {
      "text/plain": [
       "1234"
      ]
     },
     "execution_count": 54,
     "metadata": {},
     "output_type": "execute_result"
    }
   ],
   "source": [
    "len(ds_new)"
   ]
  },
  {
   "cell_type": "code",
   "execution_count": 55,
   "id": "24e99607",
   "metadata": {},
   "outputs": [
    {
     "data": {
      "text/plain": [
       "[<matplotlib.lines.Line2D at 0x2729add45b0>]"
      ]
     },
     "execution_count": 55,
     "metadata": {},
     "output_type": "execute_result"
    },
    {
     "data": {
      "image/png": "[encoded data removed]",
      "text/plain": [
       "<Figure size 432x288 with 1 Axes>"
      ]
     },
     "metadata": {
      "needs_background": "light"
     },
     "output_type": "display_data"
    }
   ],
   "source": [
    "#Entends helps us to fill the missing value with approx value\n",
    "ds_new.extend(lst_output)\n",
    "plt.plot(ds_new[1200:])"
   ]
  },
  {
   "cell_type": "code",
   "execution_count": 56,
   "id": "7f04f058",
   "metadata": {},
   "outputs": [],
   "source": [
    "#Creating final data for plotting\n",
    "final_graph = normalizer.inverse_transform(ds_new).tolist()"
   ]
  },
  {
   "cell_type": "code",
   "execution_count": 57,
   "id": "2dfdef30",
   "metadata": {},
   "outputs": [
    {
     "data": {
      "text/plain": [
       "<matplotlib.legend.Legend at 0x2729ad2ceb0>"
      ]
     },
     "execution_count": 57,
     "metadata": {},
     "output_type": "execute_result"
    },
    {
     "data": {
      "image/png": "[encoded data removed]",
      "text/plain": [
       "<Figure size 432x288 with 1 Axes>"
      ]
     },
     "metadata": {
      "needs_background": "light"
     },
     "output_type": "display_data"
    }
   ],
   "source": [
    "#Plotting final results with predicted value after 30 Days\n",
    "plt.plot(final_graph,)\n",
    "plt.ylabel(\"Price\")\n",
    "plt.xlabel(\"Time\")\n",
    "plt.title(\"{0} prediction of next month open\".format(stock_symbol))\n",
    "plt.axhline(y=final_graph[len(final_graph)-1], color = 'red', linestyle = ':', label = 'NEXT 30D: {0}'.format(round(float(*final_graph[len(final_graph)-1]),2)))\n",
    "plt.legend()\n",
    "\n"
   ]
  },
  {
   "cell_type": "code",
   "execution_count": null,
   "id": "74a10ba9",
   "metadata": {},
   "outputs": [],
   "source": []
  }
 ],
 "metadata": {
  "kernelspec": {
   "display_name": "Python 3 (ipykernel)",
   "language": "python",
   "name": "python3"
  },
  "language_info": {
   "codemirror_mode": {
    "name": "ipython",
    "version": 3
   },
   "file_extension": ".py",
   "mimetype": "text/x-python",
   "name": "python",
   "nbconvert_exporter": "python",
   "pygments_lexer": "ipython3",
   "version": "3.9.7"
  }
 },
 "nbformat": 4,
 "nbformat_minor": 5
}
