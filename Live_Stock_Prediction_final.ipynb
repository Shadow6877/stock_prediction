{
 "cells": [
  {
   "cell_type": "code",
   "execution_count": 55,
   "id": "f91eb4e9",
   "metadata": {},
   "outputs": [],
   "source": [
    "#!pip install yfinance\n",
    "import yfinance as yf\n",
    "import datetime as dt\n",
    "import seaborn as sns\n",
    "import numpy as np\n",
    "import matplotlib.pyplot as plt\n",
    "from sklearn.preprocessing import MinMaxScaler"
   ]
  },
  {
   "cell_type": "code",
   "execution_count": 61,
   "id": "ee00f18c",
   "metadata": {},
   "outputs": [],
   "source": [
    "#We are going to use the Indian Company \"GAIL(Gas Authority of India Ltd)\" stock value\n",
    "stock_symbol = 'GAIL.NS'"
   ]
  },
  {
   "cell_type": "code",
   "execution_count": 62,
   "id": "d365868a",
   "metadata": {},
   "outputs": [
    {
     "name": "stdout",
     "output_type": "stream",
     "text": [
      "[*********************100%***********************]  1 of 1 completed\n"
     ]
    }
   ],
   "source": [
    "#We have taken last 8 years data with interval of 1 day\n",
    "end_date = dt.datetime.strptime(\"2022-02-11\", \"%Y-%m-%d\").date()\n",
    "start_date=end_date-dt.timedelta(days=365*8)\n",
    "data = yf.download(tickers=stock_symbol,start=start_date,end=end_date,interval='1d')"
   ]
  },
  {
   "cell_type": "code",
   "execution_count": 63,
   "id": "9f82e205",
   "metadata": {},
   "outputs": [
    {
     "data": {
      "text/plain": [
       "pandas.core.frame.DataFrame"
      ]
     },
     "execution_count": 63,
     "metadata": {},
     "output_type": "execute_result"
    }
   ],
   "source": [
    "type(data)"
   ]
  },
  {
   "cell_type": "code",
   "execution_count": 64,
   "id": "dbbe3e6b",
   "metadata": {},
   "outputs": [
    {
     "data": {
      "text/html": [
       "<div>\n",
       "<style scoped>\n",
       "    .dataframe tbody tr th:only-of-type {\n",
       "        vertical-align: middle;\n",
       "    }\n",
       "\n",
       "    .dataframe tbody tr th {\n",
       "        vertical-align: top;\n",
       "    }\n",
       "\n",
       "    .dataframe thead th {\n",
       "        text-align: right;\n",
       "    }\n",
       "</style>\n",
       "<table border=\"1\" class=\"dataframe\">\n",
       "  <thead>\n",
       "    <tr style=\"text-align: right;\">\n",
       "      <th></th>\n",
       "      <th>Open</th>\n",
       "      <th>High</th>\n",
       "      <th>Low</th>\n",
       "      <th>Close</th>\n",
       "      <th>Adj Close</th>\n",
       "      <th>Volume</th>\n",
       "    </tr>\n",
       "    <tr>\n",
       "      <th>Date</th>\n",
       "      <th></th>\n",
       "      <th></th>\n",
       "      <th></th>\n",
       "      <th></th>\n",
       "      <th></th>\n",
       "      <th></th>\n",
       "    </tr>\n",
       "  </thead>\n",
       "  <tbody>\n",
       "    <tr>\n",
       "      <th>2014-02-13</th>\n",
       "      <td>100.434425</td>\n",
       "      <td>100.954735</td>\n",
       "      <td>98.676613</td>\n",
       "      <td>98.760986</td>\n",
       "      <td>75.702003</td>\n",
       "      <td>1246146</td>\n",
       "    </tr>\n",
       "    <tr>\n",
       "      <th>2014-02-14</th>\n",
       "      <td>98.465675</td>\n",
       "      <td>101.812553</td>\n",
       "      <td>97.523483</td>\n",
       "      <td>101.460991</td>\n",
       "      <td>77.771622</td>\n",
       "      <td>1875067</td>\n",
       "    </tr>\n",
       "    <tr>\n",
       "      <th>2014-02-17</th>\n",
       "      <td>101.559425</td>\n",
       "      <td>102.473488</td>\n",
       "      <td>100.884422</td>\n",
       "      <td>102.150047</td>\n",
       "      <td>78.299789</td>\n",
       "      <td>1932589</td>\n",
       "    </tr>\n",
       "    <tr>\n",
       "      <th>2014-02-18</th>\n",
       "      <td>101.671928</td>\n",
       "      <td>102.276611</td>\n",
       "      <td>99.210983</td>\n",
       "      <td>100.631302</td>\n",
       "      <td>77.135651</td>\n",
       "      <td>2370853</td>\n",
       "    </tr>\n",
       "    <tr>\n",
       "      <th>2014-02-19</th>\n",
       "      <td>100.771927</td>\n",
       "      <td>102.037552</td>\n",
       "      <td>100.153175</td>\n",
       "      <td>101.306297</td>\n",
       "      <td>77.653023</td>\n",
       "      <td>1458658</td>\n",
       "    </tr>\n",
       "  </tbody>\n",
       "</table>\n",
       "</div>"
      ],
      "text/plain": [
       "                  Open        High         Low       Close  Adj Close   Volume\n",
       "Date                                                                          \n",
       "2014-02-13  100.434425  100.954735   98.676613   98.760986  75.702003  1246146\n",
       "2014-02-14   98.465675  101.812553   97.523483  101.460991  77.771622  1875067\n",
       "2014-02-17  101.559425  102.473488  100.884422  102.150047  78.299789  1932589\n",
       "2014-02-18  101.671928  102.276611   99.210983  100.631302  77.135651  2370853\n",
       "2014-02-19  100.771927  102.037552  100.153175  101.306297  77.653023  1458658"
      ]
     },
     "execution_count": 64,
     "metadata": {},
     "output_type": "execute_result"
    }
   ],
   "source": [
    "data.head()"
   ]
  },
  {
   "cell_type": "code",
   "execution_count": 65,
   "id": "8fa2aa8c",
   "metadata": {},
   "outputs": [
    {
     "data": {
      "text/html": [
       "<div>\n",
       "<style scoped>\n",
       "    .dataframe tbody tr th:only-of-type {\n",
       "        vertical-align: middle;\n",
       "    }\n",
       "\n",
       "    .dataframe tbody tr th {\n",
       "        vertical-align: top;\n",
       "    }\n",
       "\n",
       "    .dataframe thead th {\n",
       "        text-align: right;\n",
       "    }\n",
       "</style>\n",
       "<table border=\"1\" class=\"dataframe\">\n",
       "  <thead>\n",
       "    <tr style=\"text-align: right;\">\n",
       "      <th></th>\n",
       "      <th>Open</th>\n",
       "      <th>High</th>\n",
       "      <th>Low</th>\n",
       "      <th>Close</th>\n",
       "      <th>Adj Close</th>\n",
       "      <th>Volume</th>\n",
       "    </tr>\n",
       "  </thead>\n",
       "  <tbody>\n",
       "    <tr>\n",
       "      <th>count</th>\n",
       "      <td>1969.000000</td>\n",
       "      <td>1969.000000</td>\n",
       "      <td>1969.000000</td>\n",
       "      <td>1969.000000</td>\n",
       "      <td>1969.000000</td>\n",
       "      <td>1.969000e+03</td>\n",
       "    </tr>\n",
       "    <tr>\n",
       "      <th>mean</th>\n",
       "      <td>131.538266</td>\n",
       "      <td>133.490389</td>\n",
       "      <td>129.441408</td>\n",
       "      <td>131.321929</td>\n",
       "      <td>110.135514</td>\n",
       "      <td>1.007956e+07</td>\n",
       "    </tr>\n",
       "    <tr>\n",
       "      <th>std</th>\n",
       "      <td>29.375285</td>\n",
       "      <td>29.608569</td>\n",
       "      <td>28.985842</td>\n",
       "      <td>29.243389</td>\n",
       "      <td>26.641041</td>\n",
       "      <td>8.737209e+06</td>\n",
       "    </tr>\n",
       "    <tr>\n",
       "      <th>min</th>\n",
       "      <td>68.449997</td>\n",
       "      <td>72.250000</td>\n",
       "      <td>65.000000</td>\n",
       "      <td>69.400002</td>\n",
       "      <td>59.741135</td>\n",
       "      <td>0.000000e+00</td>\n",
       "    </tr>\n",
       "    <tr>\n",
       "      <th>25%</th>\n",
       "      <td>106.000000</td>\n",
       "      <td>107.718803</td>\n",
       "      <td>104.681305</td>\n",
       "      <td>106.129738</td>\n",
       "      <td>85.519318</td>\n",
       "      <td>5.056233e+06</td>\n",
       "    </tr>\n",
       "    <tr>\n",
       "      <th>50%</th>\n",
       "      <td>128.559433</td>\n",
       "      <td>130.350006</td>\n",
       "      <td>126.500000</td>\n",
       "      <td>128.649994</td>\n",
       "      <td>107.891792</td>\n",
       "      <td>7.812092e+06</td>\n",
       "    </tr>\n",
       "    <tr>\n",
       "      <th>75%</th>\n",
       "      <td>154.000000</td>\n",
       "      <td>155.649994</td>\n",
       "      <td>151.875031</td>\n",
       "      <td>153.350006</td>\n",
       "      <td>136.530136</td>\n",
       "      <td>1.207116e+07</td>\n",
       "    </tr>\n",
       "    <tr>\n",
       "      <th>max</th>\n",
       "      <td>197.000000</td>\n",
       "      <td>199.699997</td>\n",
       "      <td>192.100006</td>\n",
       "      <td>196.899994</td>\n",
       "      <td>163.547379</td>\n",
       "      <td>1.147153e+08</td>\n",
       "    </tr>\n",
       "  </tbody>\n",
       "</table>\n",
       "</div>"
      ],
      "text/plain": [
       "              Open         High          Low        Close    Adj Close  \\\n",
       "count  1969.000000  1969.000000  1969.000000  1969.000000  1969.000000   \n",
       "mean    131.538266   133.490389   129.441408   131.321929   110.135514   \n",
       "std      29.375285    29.608569    28.985842    29.243389    26.641041   \n",
       "min      68.449997    72.250000    65.000000    69.400002    59.741135   \n",
       "25%     106.000000   107.718803   104.681305   106.129738    85.519318   \n",
       "50%     128.559433   130.350006   126.500000   128.649994   107.891792   \n",
       "75%     154.000000   155.649994   151.875031   153.350006   136.530136   \n",
       "max     197.000000   199.699997   192.100006   196.899994   163.547379   \n",
       "\n",
       "             Volume  \n",
       "count  1.969000e+03  \n",
       "mean   1.007956e+07  \n",
       "std    8.737209e+06  \n",
       "min    0.000000e+00  \n",
       "25%    5.056233e+06  \n",
       "50%    7.812092e+06  \n",
       "75%    1.207116e+07  \n",
       "max    1.147153e+08  "
      ]
     },
     "execution_count": 65,
     "metadata": {},
     "output_type": "execute_result"
    }
   ],
   "source": [
    "data.describe() #We are displaying the characteristics of the dataset"
   ]
  },
  {
   "cell_type": "code",
   "execution_count": 7,
   "id": "9d445949",
   "metadata": {},
   "outputs": [
    {
     "data": {
      "text/plain": [
       "1969"
      ]
     },
     "execution_count": 7,
     "metadata": {},
     "output_type": "execute_result"
    }
   ],
   "source": [
    "len(data)"
   ]
  },
  {
   "cell_type": "code",
   "execution_count": 8,
   "id": "bf283ad5",
   "metadata": {},
   "outputs": [
    {
     "data": {
      "text/html": [
       "<div>\n",
       "<style scoped>\n",
       "    .dataframe tbody tr th:only-of-type {\n",
       "        vertical-align: middle;\n",
       "    }\n",
       "\n",
       "    .dataframe tbody tr th {\n",
       "        vertical-align: top;\n",
       "    }\n",
       "\n",
       "    .dataframe thead th {\n",
       "        text-align: right;\n",
       "    }\n",
       "</style>\n",
       "<table border=\"1\" class=\"dataframe\">\n",
       "  <thead>\n",
       "    <tr style=\"text-align: right;\">\n",
       "      <th></th>\n",
       "      <th>Open</th>\n",
       "      <th>High</th>\n",
       "      <th>Low</th>\n",
       "      <th>Close</th>\n",
       "      <th>Adj Close</th>\n",
       "      <th>Volume</th>\n",
       "    </tr>\n",
       "    <tr>\n",
       "      <th>Date</th>\n",
       "      <th></th>\n",
       "      <th></th>\n",
       "      <th></th>\n",
       "      <th></th>\n",
       "      <th></th>\n",
       "      <th></th>\n",
       "    </tr>\n",
       "  </thead>\n",
       "  <tbody>\n",
       "    <tr>\n",
       "      <th>2022-02-04</th>\n",
       "      <td>149.750000</td>\n",
       "      <td>151.949997</td>\n",
       "      <td>146.149994</td>\n",
       "      <td>146.550003</td>\n",
       "      <td>141.706985</td>\n",
       "      <td>18772221</td>\n",
       "    </tr>\n",
       "    <tr>\n",
       "      <th>2022-02-07</th>\n",
       "      <td>147.449997</td>\n",
       "      <td>148.899994</td>\n",
       "      <td>146.399994</td>\n",
       "      <td>148.250000</td>\n",
       "      <td>143.350800</td>\n",
       "      <td>8159964</td>\n",
       "    </tr>\n",
       "    <tr>\n",
       "      <th>2022-02-08</th>\n",
       "      <td>148.350006</td>\n",
       "      <td>148.800003</td>\n",
       "      <td>142.300003</td>\n",
       "      <td>144.300003</td>\n",
       "      <td>139.531342</td>\n",
       "      <td>12055244</td>\n",
       "    </tr>\n",
       "    <tr>\n",
       "      <th>2022-02-09</th>\n",
       "      <td>145.000000</td>\n",
       "      <td>145.600006</td>\n",
       "      <td>142.300003</td>\n",
       "      <td>142.949997</td>\n",
       "      <td>138.225937</td>\n",
       "      <td>7631688</td>\n",
       "    </tr>\n",
       "    <tr>\n",
       "      <th>2022-02-10</th>\n",
       "      <td>143.399994</td>\n",
       "      <td>143.449997</td>\n",
       "      <td>140.350006</td>\n",
       "      <td>141.600006</td>\n",
       "      <td>136.920563</td>\n",
       "      <td>20379088</td>\n",
       "    </tr>\n",
       "  </tbody>\n",
       "</table>\n",
       "</div>"
      ],
      "text/plain": [
       "                  Open        High         Low       Close   Adj Close  \\\n",
       "Date                                                                     \n",
       "2022-02-04  149.750000  151.949997  146.149994  146.550003  141.706985   \n",
       "2022-02-07  147.449997  148.899994  146.399994  148.250000  143.350800   \n",
       "2022-02-08  148.350006  148.800003  142.300003  144.300003  139.531342   \n",
       "2022-02-09  145.000000  145.600006  142.300003  142.949997  138.225937   \n",
       "2022-02-10  143.399994  143.449997  140.350006  141.600006  136.920563   \n",
       "\n",
       "              Volume  \n",
       "Date                  \n",
       "2022-02-04  18772221  \n",
       "2022-02-07   8159964  \n",
       "2022-02-08  12055244  \n",
       "2022-02-09   7631688  \n",
       "2022-02-10  20379088  "
      ]
     },
     "execution_count": 8,
     "metadata": {},
     "output_type": "execute_result"
    }
   ],
   "source": [
    "data.tail()"
   ]
  },
  {
   "cell_type": "code",
   "execution_count": 9,
   "id": "13b3c362",
   "metadata": {},
   "outputs": [
    {
     "data": {
      "text/plain": [
       "<AxesSubplot:>"
      ]
     },
     "execution_count": 9,
     "metadata": {},
     "output_type": "execute_result"
    },
    {
     "data": {
      "image/png": "[encoded data removed]",
      "text/plain": [
       "<Figure size 504x360 with 2 Axes>"
      ]
     },
     "metadata": {
      "needs_background": "light"
     },
     "output_type": "display_data"
    }
   ],
   "source": [
    "plt.figure(figsize=(7,5))\n",
    "sns.heatmap(data.corr(),cmap=\"Blues\",annot=True)\n",
    "#It displays the co-relation between the columns of the dataset"
   ]
  },
  {
   "cell_type": "code",
   "execution_count": 10,
   "id": "1a6d95e3",
   "metadata": {},
   "outputs": [],
   "source": [
    "d2=data.copy()"
   ]
  },
  {
   "cell_type": "code",
   "execution_count": 11,
   "id": "6a381d05",
   "metadata": {},
   "outputs": [
    {
     "data": {
      "text/html": [
       "<div>\n",
       "<style scoped>\n",
       "    .dataframe tbody tr th:only-of-type {\n",
       "        vertical-align: middle;\n",
       "    }\n",
       "\n",
       "    .dataframe tbody tr th {\n",
       "        vertical-align: top;\n",
       "    }\n",
       "\n",
       "    .dataframe thead th {\n",
       "        text-align: right;\n",
       "    }\n",
       "</style>\n",
       "<table border=\"1\" class=\"dataframe\">\n",
       "  <thead>\n",
       "    <tr style=\"text-align: right;\">\n",
       "      <th></th>\n",
       "      <th>Volume</th>\n",
       "      <th>open-high</th>\n",
       "      <th>open-low</th>\n",
       "      <th>close-high</th>\n",
       "      <th>close-low</th>\n",
       "      <th>high-low</th>\n",
       "      <th>open-close</th>\n",
       "    </tr>\n",
       "    <tr>\n",
       "      <th>Date</th>\n",
       "      <th></th>\n",
       "      <th></th>\n",
       "      <th></th>\n",
       "      <th></th>\n",
       "      <th></th>\n",
       "      <th></th>\n",
       "      <th></th>\n",
       "    </tr>\n",
       "  </thead>\n",
       "  <tbody>\n",
       "    <tr>\n",
       "      <th>2022-02-04</th>\n",
       "      <td>18772221</td>\n",
       "      <td>-2.199997</td>\n",
       "      <td>3.600006</td>\n",
       "      <td>-5.399994</td>\n",
       "      <td>0.400009</td>\n",
       "      <td>5.800003</td>\n",
       "      <td>3.199997</td>\n",
       "    </tr>\n",
       "    <tr>\n",
       "      <th>2022-02-07</th>\n",
       "      <td>8159964</td>\n",
       "      <td>-1.449997</td>\n",
       "      <td>1.050003</td>\n",
       "      <td>-0.649994</td>\n",
       "      <td>1.850006</td>\n",
       "      <td>2.500000</td>\n",
       "      <td>-0.800003</td>\n",
       "    </tr>\n",
       "    <tr>\n",
       "      <th>2022-02-08</th>\n",
       "      <td>12055244</td>\n",
       "      <td>-0.449997</td>\n",
       "      <td>6.050003</td>\n",
       "      <td>-4.500000</td>\n",
       "      <td>2.000000</td>\n",
       "      <td>6.500000</td>\n",
       "      <td>4.050003</td>\n",
       "    </tr>\n",
       "    <tr>\n",
       "      <th>2022-02-09</th>\n",
       "      <td>7631688</td>\n",
       "      <td>-0.600006</td>\n",
       "      <td>2.699997</td>\n",
       "      <td>-2.650009</td>\n",
       "      <td>0.649994</td>\n",
       "      <td>3.300003</td>\n",
       "      <td>2.050003</td>\n",
       "    </tr>\n",
       "    <tr>\n",
       "      <th>2022-02-10</th>\n",
       "      <td>20379088</td>\n",
       "      <td>-0.050003</td>\n",
       "      <td>3.049988</td>\n",
       "      <td>-1.849991</td>\n",
       "      <td>1.250000</td>\n",
       "      <td>3.099991</td>\n",
       "      <td>1.799988</td>\n",
       "    </tr>\n",
       "  </tbody>\n",
       "</table>\n",
       "</div>"
      ],
      "text/plain": [
       "              Volume  open-high  open-low  close-high  close-low  high-low  \\\n",
       "Date                                                                         \n",
       "2022-02-04  18772221  -2.199997  3.600006   -5.399994   0.400009  5.800003   \n",
       "2022-02-07   8159964  -1.449997  1.050003   -0.649994   1.850006  2.500000   \n",
       "2022-02-08  12055244  -0.449997  6.050003   -4.500000   2.000000  6.500000   \n",
       "2022-02-09   7631688  -0.600006  2.699997   -2.650009   0.649994  3.300003   \n",
       "2022-02-10  20379088  -0.050003  3.049988   -1.849991   1.250000  3.099991   \n",
       "\n",
       "            open-close  \n",
       "Date                    \n",
       "2022-02-04    3.199997  \n",
       "2022-02-07   -0.800003  \n",
       "2022-02-08    4.050003  \n",
       "2022-02-09    2.050003  \n",
       "2022-02-10    1.799988  "
      ]
     },
     "execution_count": 11,
     "metadata": {},
     "output_type": "execute_result"
    }
   ],
   "source": [
    "d2['open-high'] = d2['Open']-d2['High']\n",
    "d2['open-low'] = d2['Open'] - d2['Low']\n",
    "d2['close-high'] = d2['Close']-d2['High']\n",
    "d2['close-low'] = d2['Close'] - d2['Low']\n",
    "d2['high-low'] = d2['High'] - d2['Low']\n",
    "d2['open-close'] = d2['Open'] - d2['Close']\n",
    "d2=d2.drop(['Open','High','Low','Close','Adj Close'],axis=1)\n",
    "d2.tail()"
   ]
  },
  {
   "cell_type": "code",
   "execution_count": 12,
   "id": "421b5258",
   "metadata": {},
   "outputs": [
    {
     "data": {
      "text/plain": [
       "<AxesSubplot:>"
      ]
     },
     "execution_count": 12,
     "metadata": {},
     "output_type": "execute_result"
    },
    {
     "data": {
      "image/png": "[encoded data removed]",
      "text/plain": [
       "<Figure size 504x360 with 2 Axes>"
      ]
     },
     "metadata": {
      "needs_background": "light"
     },
     "output_type": "display_data"
    }
   ],
   "source": [
    "plt.figure(figsize=(7,5))\n",
    "sns.heatmap(d2.corr(),cmap=\"Blues\",annot=True)"
   ]
  },
  {
   "cell_type": "code",
   "execution_count": 13,
   "id": "6292e20a",
   "metadata": {},
   "outputs": [],
   "source": [
    "opn = data[['Open']] #It denotes the opening stock value"
   ]
  },
  {
   "cell_type": "code",
   "execution_count": 14,
   "id": "21e132d8",
   "metadata": {},
   "outputs": [
    {
     "data": {
      "text/plain": [
       "<AxesSubplot:xlabel='Date'>"
      ]
     },
     "execution_count": 14,
     "metadata": {},
     "output_type": "execute_result"
    },
    {
     "data": {
      "image/png": "[encoded data removed]",
      "text/plain": [
       "<Figure size 432x288 with 1 Axes>"
      ]
     },
     "metadata": {
      "needs_background": "light"
     },
     "output_type": "display_data"
    }
   ],
   "source": [
    "opn.plot()"
   ]
  },
  {
   "cell_type": "code",
   "execution_count": 15,
   "id": "8038cb6a",
   "metadata": {},
   "outputs": [],
   "source": [
    "ds = opn.values"
   ]
  },
  {
   "cell_type": "code",
   "execution_count": 16,
   "id": "af022e3c",
   "metadata": {},
   "outputs": [
    {
     "data": {
      "text/plain": [
       "[<matplotlib.lines.Line2D at 0x1c11326d250>]"
      ]
     },
     "execution_count": 16,
     "metadata": {},
     "output_type": "execute_result"
    },
    {
     "data": {
      "image/png": "[encoded data removed]",
      "text/plain": [
       "<Figure size 432x288 with 1 Axes>"
      ]
     },
     "metadata": {
      "needs_background": "light"
     },
     "output_type": "display_data"
    }
   ],
   "source": [
    "plt.plot(ds)"
   ]
  },
  {
   "cell_type": "code",
   "execution_count": 17,
   "id": "cf6a3e1b",
   "metadata": {},
   "outputs": [],
   "source": [
    "#We are using MinMaxScaler for scaling (Subtracts the min value and divides by the range)\n",
    "normalizer = MinMaxScaler(feature_range=(0,1))\n",
    "ds_scaled = normalizer.fit_transform(np.array(ds).reshape(-1,1))"
   ]
  },
  {
   "cell_type": "code",
   "execution_count": 18,
   "id": "7dbea1d5",
   "metadata": {},
   "outputs": [
    {
     "data": {
      "text/plain": [
       "(1969, 1)"
      ]
     },
     "execution_count": 18,
     "metadata": {},
     "output_type": "execute_result"
    }
   ],
   "source": [
    "ds_scaled.shape"
   ]
  },
  {
   "cell_type": "code",
   "execution_count": 19,
   "id": "a20c5654",
   "metadata": {},
   "outputs": [],
   "source": [
    "#We are defining test and train data sizes\n",
    "train_size = int(len(ds_scaled)*0.70)\n",
    "test_size = len(ds_scaled) - train_size"
   ]
  },
  {
   "cell_type": "code",
   "execution_count": 20,
   "id": "b964aa4e",
   "metadata": {},
   "outputs": [
    {
     "data": {
      "text/plain": [
       "(1378, 591)"
      ]
     },
     "execution_count": 20,
     "metadata": {},
     "output_type": "execute_result"
    }
   ],
   "source": [
    "train_size,test_size"
   ]
  },
  {
   "cell_type": "code",
   "execution_count": 21,
   "id": "25ca615e",
   "metadata": {},
   "outputs": [],
   "source": [
    "#We are splitting dataset into train and test dataset\n",
    "ds_train, ds_test = ds_scaled[0:train_size,:], ds_scaled[train_size:len(ds_scaled)-1,:1]"
   ]
  },
  {
   "cell_type": "code",
   "execution_count": 22,
   "id": "95913f28",
   "metadata": {},
   "outputs": [
    {
     "data": {
      "text/plain": [
       "(1378, 590)"
      ]
     },
     "execution_count": 22,
     "metadata": {},
     "output_type": "execute_result"
    }
   ],
   "source": [
    "len(ds_train),len(ds_test)"
   ]
  },
  {
   "cell_type": "code",
   "execution_count": 23,
   "id": "5dd0b45e",
   "metadata": {},
   "outputs": [],
   "source": [
    "#we created a function for making a time series dataset for the model\n",
    "def create_ds(dataset,step):\n",
    "    Xtrain, Ytrain = [], []\n",
    "    for i in range(len(dataset)-step-1):\n",
    "        a = dataset[i:(i+step), 0]\n",
    "        Xtrain.append(a)\n",
    "        Ytrain.append(dataset[i + step, 0])\n",
    "    return np.array(Xtrain), np.array(Ytrain)"
   ]
  },
  {
   "cell_type": "code",
   "execution_count": 24,
   "id": "d28b7d1d",
   "metadata": {},
   "outputs": [],
   "source": [
    "#We are taking 100 days price as one record for training\n",
    "time_stamp = 100\n",
    "X_train, y_train = create_ds(ds_train,time_stamp)\n",
    "X_test, y_test = create_ds(ds_test,time_stamp)"
   ]
  },
  {
   "cell_type": "code",
   "execution_count": 25,
   "id": "03ce9096",
   "metadata": {},
   "outputs": [
    {
     "data": {
      "text/plain": [
       "((1277, 100), (1277,))"
      ]
     },
     "execution_count": 25,
     "metadata": {},
     "output_type": "execute_result"
    }
   ],
   "source": [
    "X_train.shape,y_train.shape"
   ]
  },
  {
   "cell_type": "code",
   "execution_count": 26,
   "id": "84acdd72",
   "metadata": {},
   "outputs": [
    {
     "data": {
      "text/plain": [
       "((489, 100), (489,))"
      ]
     },
     "execution_count": 26,
     "metadata": {},
     "output_type": "execute_result"
    }
   ],
   "source": [
    "X_test.shape, y_test.shape"
   ]
  },
  {
   "cell_type": "code",
   "execution_count": 27,
   "id": "c657d193",
   "metadata": {},
   "outputs": [],
   "source": [
    "#We are reshaping data to fit into LSTM model\n",
    "X_train = X_train.reshape(X_train.shape[0],X_train.shape[1] , 1)\n",
    "X_test = X_test.reshape(X_test.shape[0],X_test.shape[1] , 1)"
   ]
  },
  {
   "cell_type": "markdown",
   "id": "e6265599",
   "metadata": {},
   "source": [
    "from keras.models import Sequential\n",
    "from keras.layers import Dense, LSTM"
   ]
  },
  {
   "cell_type": "code",
   "execution_count": 29,
   "id": "b5250913",
   "metadata": {},
   "outputs": [
    {
     "name": "stdout",
     "output_type": "stream",
     "text": [
      "Model: \"sequential\"\n",
      "_________________________________________________________________\n",
      " Layer (type)                Output Shape              Param #   \n",
      "=================================================================\n",
      " lstm (LSTM)                 (None, 100, 50)           10400     \n",
      "                                                                 \n",
      " lstm_1 (LSTM)               (None, 100, 50)           20200     \n",
      "                                                                 \n",
      " lstm_2 (LSTM)               (None, 50)                20200     \n",
      "                                                                 \n",
      " dense (Dense)               (None, 1)                 51        \n",
      "                                                                 \n",
      "=================================================================\n",
      "Total params: 50,851\n",
      "Trainable params: 50,851\n",
      "Non-trainable params: 0\n",
      "_________________________________________________________________\n"
     ]
    }
   ],
   "source": [
    "#In this step, we created an LSTM model using keras\n",
    "model = Sequential()\n",
    "model.add(LSTM(units=50,return_sequences=True,input_shape=(X_train.shape[1],1)))\n",
    "model.add(LSTM(units=50,return_sequences=True))\n",
    "model.add(LSTM(units=50))\n",
    "model.add(Dense(units=1,activation='linear'))\n",
    "model.summary()"
   ]
  },
  {
   "cell_type": "code",
   "execution_count": 30,
   "id": "7e8ff062",
   "metadata": {},
   "outputs": [
    {
     "name": "stdout",
     "output_type": "stream",
     "text": [
      "Epoch 1/50\n",
      "10/10 [==============================] - 10s 480ms/step - loss: 0.0951 - val_loss: 0.0090\n",
      "Epoch 2/50\n",
      "10/10 [==============================] - 3s 325ms/step - loss: 0.0183 - val_loss: 0.0095\n",
      "Epoch 3/50\n",
      "10/10 [==============================] - 3s 333ms/step - loss: 0.0093 - val_loss: 0.0070\n",
      "Epoch 4/50\n",
      "10/10 [==============================] - 4s 370ms/step - loss: 0.0056 - val_loss: 0.0077\n",
      "Epoch 5/50\n",
      "10/10 [==============================] - 3s 347ms/step - loss: 0.0035 - val_loss: 0.0060\n",
      "Epoch 6/50\n",
      "10/10 [==============================] - 5s 470ms/step - loss: 0.0029 - val_loss: 0.0060\n",
      "Epoch 7/50\n",
      "10/10 [==============================] - 3s 344ms/step - loss: 0.0028 - val_loss: 0.0061\n",
      "Epoch 8/50\n",
      "10/10 [==============================] - 3s 345ms/step - loss: 0.0027 - val_loss: 0.0058\n",
      "Epoch 9/50\n",
      "10/10 [==============================] - 4s 448ms/step - loss: 0.0026 - val_loss: 0.0057\n",
      "Epoch 10/50\n",
      "10/10 [==============================] - 5s 539ms/step - loss: 0.0026 - val_loss: 0.0056\n",
      "Epoch 11/50\n",
      "10/10 [==============================] - 4s 434ms/step - loss: 0.0026 - val_loss: 0.0055\n",
      "Epoch 12/50\n",
      "10/10 [==============================] - 5s 467ms/step - loss: 0.0026 - val_loss: 0.0055\n",
      "Epoch 13/50\n",
      "10/10 [==============================] - 5s 465ms/step - loss: 0.0026 - val_loss: 0.0055\n",
      "Epoch 14/50\n",
      "10/10 [==============================] - 4s 379ms/step - loss: 0.0025 - val_loss: 0.0053\n",
      "Epoch 15/50\n",
      "10/10 [==============================] - 4s 368ms/step - loss: 0.0024 - val_loss: 0.0053\n",
      "Epoch 16/50\n",
      "10/10 [==============================] - 3s 350ms/step - loss: 0.0024 - val_loss: 0.0052\n",
      "Epoch 17/50\n",
      "10/10 [==============================] - 3s 353ms/step - loss: 0.0024 - val_loss: 0.0051\n",
      "Epoch 18/50\n",
      "10/10 [==============================] - 4s 386ms/step - loss: 0.0023 - val_loss: 0.0050\n",
      "Epoch 19/50\n",
      "10/10 [==============================] - 4s 373ms/step - loss: 0.0023 - val_loss: 0.0050\n",
      "Epoch 20/50\n",
      "10/10 [==============================] - 4s 359ms/step - loss: 0.0023 - val_loss: 0.0048\n",
      "Epoch 21/50\n",
      "10/10 [==============================] - 4s 370ms/step - loss: 0.0023 - val_loss: 0.0047\n",
      "Epoch 22/50\n",
      "10/10 [==============================] - 4s 372ms/step - loss: 0.0023 - val_loss: 0.0047\n",
      "Epoch 23/50\n",
      "10/10 [==============================] - 4s 386ms/step - loss: 0.0022 - val_loss: 0.0046\n",
      "Epoch 24/50\n",
      "10/10 [==============================] - 4s 371ms/step - loss: 0.0021 - val_loss: 0.0045\n",
      "Epoch 25/50\n",
      "10/10 [==============================] - 4s 415ms/step - loss: 0.0021 - val_loss: 0.0044\n",
      "Epoch 26/50\n",
      "10/10 [==============================] - 4s 412ms/step - loss: 0.0021 - val_loss: 0.0044\n",
      "Epoch 27/50\n",
      "10/10 [==============================] - 4s 385ms/step - loss: 0.0021 - val_loss: 0.0042\n",
      "Epoch 28/50\n",
      "10/10 [==============================] - 4s 419ms/step - loss: 0.0021 - val_loss: 0.0044\n",
      "Epoch 29/50\n",
      "10/10 [==============================] - 4s 366ms/step - loss: 0.0021 - val_loss: 0.0041\n",
      "Epoch 30/50\n",
      "10/10 [==============================] - 3s 352ms/step - loss: 0.0021 - val_loss: 0.0040\n",
      "Epoch 31/50\n",
      "10/10 [==============================] - 3s 347ms/step - loss: 0.0020 - val_loss: 0.0040\n",
      "Epoch 32/50\n",
      "10/10 [==============================] - 3s 352ms/step - loss: 0.0020 - val_loss: 0.0039\n",
      "Epoch 33/50\n",
      "10/10 [==============================] - 4s 373ms/step - loss: 0.0020 - val_loss: 0.0039\n",
      "Epoch 34/50\n",
      "10/10 [==============================] - 4s 361ms/step - loss: 0.0020 - val_loss: 0.0038\n",
      "Epoch 35/50\n",
      "10/10 [==============================] - 4s 365ms/step - loss: 0.0019 - val_loss: 0.0037\n",
      "Epoch 36/50\n",
      "10/10 [==============================] - 4s 372ms/step - loss: 0.0020 - val_loss: 0.0039\n",
      "Epoch 37/50\n",
      "10/10 [==============================] - 4s 361ms/step - loss: 0.0019 - val_loss: 0.0037\n",
      "Epoch 38/50\n",
      "10/10 [==============================] - 4s 366ms/step - loss: 0.0019 - val_loss: 0.0037\n",
      "Epoch 39/50\n",
      "10/10 [==============================] - 4s 373ms/step - loss: 0.0019 - val_loss: 0.0036\n",
      "Epoch 40/50\n",
      "10/10 [==============================] - 4s 360ms/step - loss: 0.0019 - val_loss: 0.0036\n",
      "Epoch 41/50\n",
      "10/10 [==============================] - 4s 380ms/step - loss: 0.0019 - val_loss: 0.0036\n",
      "Epoch 42/50\n",
      "10/10 [==============================] - 4s 379ms/step - loss: 0.0019 - val_loss: 0.0035\n",
      "Epoch 43/50\n",
      "10/10 [==============================] - 4s 368ms/step - loss: 0.0018 - val_loss: 0.0035\n",
      "Epoch 44/50\n",
      "10/10 [==============================] - 4s 367ms/step - loss: 0.0018 - val_loss: 0.0034\n",
      "Epoch 45/50\n",
      "10/10 [==============================] - 4s 387ms/step - loss: 0.0018 - val_loss: 0.0034\n",
      "Epoch 46/50\n",
      "10/10 [==============================] - 4s 386ms/step - loss: 0.0018 - val_loss: 0.0033\n",
      "Epoch 47/50\n",
      "10/10 [==============================] - 4s 367ms/step - loss: 0.0017 - val_loss: 0.0033\n",
      "Epoch 48/50\n",
      "10/10 [==============================] - 4s 366ms/step - loss: 0.0017 - val_loss: 0.0032\n",
      "Epoch 49/50\n",
      "10/10 [==============================] - 4s 364ms/step - loss: 0.0017 - val_loss: 0.0033\n",
      "Epoch 50/50\n",
      "10/10 [==============================] - 4s 360ms/step - loss: 0.0017 - val_loss: 0.0031\n"
     ]
    },
    {
     "data": {
      "text/plain": [
       "<keras.callbacks.History at 0x1c122403400>"
      ]
     },
     "execution_count": 30,
     "metadata": {},
     "output_type": "execute_result"
    }
   ],
   "source": [
    "#We trained the model with adam optimizer and mean squared error loss function\n",
    "model.compile(loss='mean_squared_error',optimizer='adam')\n",
    "model.fit(X_train,y_train,validation_data=(X_test,y_test),epochs=50,batch_size=128,verbose=1)"
   ]
  },
  {
   "cell_type": "code",
   "execution_count": 31,
   "id": "f128e32d",
   "metadata": {},
   "outputs": [],
   "source": [
    "model.save('keras.model.h5')"
   ]
  },
  {
   "cell_type": "code",
   "execution_count": 32,
   "id": "18b1ba6a",
   "metadata": {},
   "outputs": [
    {
     "data": {
      "text/plain": [
       "[<matplotlib.lines.Line2D at 0x1c12b0cd4f0>]"
      ]
     },
     "execution_count": 32,
     "metadata": {},
     "output_type": "execute_result"
    },
    {
     "data": {
      "image/png": "[encoded data removed]",
      "text/plain": [
       "<Figure size 432x288 with 1 Axes>"
      ]
     },
     "metadata": {
      "needs_background": "light"
     },
     "output_type": "display_data"
    }
   ],
   "source": [
    "#While pLotting loss, we found that loss has decreased significantly and the model has been trained well\n",
    "loss = model.history.history['loss']\n",
    "plt.plot(loss)"
   ]
  },
  {
   "cell_type": "code",
   "execution_count": 33,
   "id": "3e7f2fc8",
   "metadata": {},
   "outputs": [],
   "source": [
    "train_predict = model.predict(X_train)\n",
    "test_predict = model.predict(X_test)"
   ]
  },
  {
   "cell_type": "code",
   "execution_count": 34,
   "id": "c2d6c2d5",
   "metadata": {},
   "outputs": [],
   "source": [
    "#Inverse transform to get actual value\n",
    "train_predict = normalizer.inverse_transform(train_predict)\n",
    "test_predict = normalizer.inverse_transform(test_predict)"
   ]
  },
  {
   "cell_type": "code",
   "execution_count": 35,
   "id": "9d0543ad",
   "metadata": {},
   "outputs": [
    {
     "data": {
      "text/plain": [
       "[<matplotlib.lines.Line2D at 0x1c12b37c490>]"
      ]
     },
     "execution_count": 35,
     "metadata": {},
     "output_type": "execute_result"
    },
    {
     "data": {
      "image/png": "[encoded data removed]",
      "text/plain": [
       "<Figure size 432x288 with 1 Axes>"
      ]
     },
     "metadata": {
      "needs_background": "light"
     },
     "output_type": "display_data"
    }
   ],
   "source": [
    "#Comparing using visuals\n",
    "plt.plot(normalizer.inverse_transform(ds_scaled)) #Blue line\n",
    "plt.plot(train_predict) #Orange line\n",
    "plt.plot(test_predict) #Green line"
   ]
  },
  {
   "cell_type": "code",
   "execution_count": 36,
   "id": "55300bae",
   "metadata": {},
   "outputs": [
    {
     "data": {
      "text/plain": [
       "numpy.ndarray"
      ]
     },
     "execution_count": 36,
     "metadata": {},
     "output_type": "execute_result"
    }
   ],
   "source": [
    "type(train_predict)"
   ]
  },
  {
   "cell_type": "code",
   "execution_count": 37,
   "id": "bf6d5613",
   "metadata": {},
   "outputs": [],
   "source": [
    "test = np.vstack((train_predict,test_predict))"
   ]
  },
  {
   "cell_type": "code",
   "execution_count": 38,
   "id": "41b272ff",
   "metadata": {},
   "outputs": [
    {
     "data": {
      "text/plain": [
       "[<matplotlib.lines.Line2D at 0x1c12b3d9130>]"
      ]
     },
     "execution_count": 38,
     "metadata": {},
     "output_type": "execute_result"
    },
    {
     "data": {
      "image/png": "[encoded data removed]",
      "text/plain": [
       "<Figure size 432x288 with 1 Axes>"
      ]
     },
     "metadata": {
      "needs_background": "light"
     },
     "output_type": "display_data"
    }
   ],
   "source": [
    "#Combining the predicted data to create uniform data visualization\n",
    "plt.plot(normalizer.inverse_transform(ds_scaled))\n",
    "plt.plot(test)"
   ]
  },
  {
   "cell_type": "code",
   "execution_count": 39,
   "id": "16af9283",
   "metadata": {},
   "outputs": [
    {
     "data": {
      "text/plain": [
       "590"
      ]
     },
     "execution_count": 39,
     "metadata": {},
     "output_type": "execute_result"
    }
   ],
   "source": [
    "len(ds_test)"
   ]
  },
  {
   "cell_type": "code",
   "execution_count": 40,
   "id": "acb5e5a4",
   "metadata": {},
   "outputs": [
    {
     "data": {
      "text/plain": [
       "590"
      ]
     },
     "execution_count": 40,
     "metadata": {},
     "output_type": "execute_result"
    }
   ],
   "source": [
    "ds_test.size"
   ]
  },
  {
   "cell_type": "code",
   "execution_count": 41,
   "id": "c13df7b8",
   "metadata": {},
   "outputs": [],
   "source": [
    "#We are going to analyse the last 100 days records\n",
    "fut_inp = ds_test[ds_test.size-100:]"
   ]
  },
  {
   "cell_type": "code",
   "execution_count": 42,
   "id": "52b30579",
   "metadata": {},
   "outputs": [],
   "source": [
    "fut_inp = fut_inp.reshape(1,-1)"
   ]
  },
  {
   "cell_type": "code",
   "execution_count": 43,
   "id": "ac2686a6",
   "metadata": {},
   "outputs": [],
   "source": [
    "tmp_inp = list(fut_inp)"
   ]
  },
  {
   "cell_type": "code",
   "execution_count": 44,
   "id": "dad5024f",
   "metadata": {},
   "outputs": [
    {
     "data": {
      "text/plain": [
       "(1, 100)"
      ]
     },
     "execution_count": 44,
     "metadata": {},
     "output_type": "execute_result"
    }
   ],
   "source": [
    "fut_inp.shape"
   ]
  },
  {
   "cell_type": "code",
   "execution_count": 45,
   "id": "98042a30",
   "metadata": {},
   "outputs": [],
   "source": [
    "#Creating list of the last 100 data\n",
    "tmp_inp = tmp_inp[0].tolist()"
   ]
  },
  {
   "cell_type": "code",
   "execution_count": 46,
   "id": "44799d02",
   "metadata": {},
   "outputs": [
    {
     "name": "stdout",
     "output_type": "stream",
     "text": [
      "[[0.5987946391105652], [0.6012619137763977], [0.6030349135398865], [0.6041818261146545], [0.6048213243484497], [0.6050785183906555], [0.6050640344619751], [0.6048654317855835], [0.6045472025871277], [0.6041536927223206], [0.6037139892578125], [0.603244960308075], [0.6027572154998779], [0.6022554636001587], [0.601742148399353], [0.6012181639671326], [0.6006839871406555], [0.6001399159431458], [0.5995863676071167], [0.5990237593650818], [0.5984525084495544], [0.5978737473487854], [0.5972880125045776], [0.5966963768005371], [0.5960993766784668], [0.5954976677894592], [0.5948922038078308], [0.594283401966095], [0.5936717987060547], [0.5930580496788025]]\n"
     ]
    }
   ],
   "source": [
    "#Predicting next 30 days price using the current data, It will predict in sliding window manner algorithm with stride 1\n",
    "lst_output=[]\n",
    "n_steps=100\n",
    "i=0\n",
    "while(i<30):\n",
    "    \n",
    "    if(len(tmp_inp)>100):\n",
    "        fut_inp = np.array(tmp_inp[1:])\n",
    "        fut_inp=fut_inp.reshape(1,-1)\n",
    "        fut_inp = fut_inp.reshape((1, n_steps, 1))\n",
    "        yhat = model.predict(fut_inp, verbose=0)\n",
    "        tmp_inp.extend(yhat[0].tolist())\n",
    "        tmp_inp = tmp_inp[1:]\n",
    "        lst_output.extend(yhat.tolist())\n",
    "        i=i+1\n",
    "    else:\n",
    "        fut_inp = fut_inp.reshape((1, n_steps,1))\n",
    "        yhat = model.predict(fut_inp, verbose=0)\n",
    "        tmp_inp.extend(yhat[0].tolist())\n",
    "        lst_output.extend(yhat.tolist())\n",
    "        i=i+1\n",
    "    \n",
    "\n",
    "print(lst_output)"
   ]
  },
  {
   "cell_type": "code",
   "execution_count": 47,
   "id": "d49a83e5",
   "metadata": {},
   "outputs": [
    {
     "data": {
      "text/plain": [
       "1969"
      ]
     },
     "execution_count": 47,
     "metadata": {},
     "output_type": "execute_result"
    }
   ],
   "source": [
    "len(ds_scaled)"
   ]
  },
  {
   "cell_type": "code",
   "execution_count": 48,
   "id": "49450ea7",
   "metadata": {},
   "outputs": [],
   "source": [
    "#Creating a dummy plane to plot graph one after another\n",
    "plot_new=np.arange(1,101)\n",
    "plot_pred=np.arange(101,131)"
   ]
  },
  {
   "cell_type": "code",
   "execution_count": 49,
   "id": "29f84e31",
   "metadata": {},
   "outputs": [
    {
     "data": {
      "text/plain": [
       "[<matplotlib.lines.Line2D at 0x1c12b4edbe0>]"
      ]
     },
     "execution_count": 49,
     "metadata": {},
     "output_type": "execute_result"
    },
    {
     "data": {
      "image/png": "[encoded data removed]",
      "text/plain": [
       "<Figure size 432x288 with 1 Axes>"
      ]
     },
     "metadata": {
      "needs_background": "light"
     },
     "output_type": "display_data"
    }
   ],
   "source": [
    "plt.plot(plot_new, normalizer.inverse_transform(ds_scaled[ds_scaled.size-100:]))\n",
    "plt.plot(plot_pred, normalizer.inverse_transform(lst_output))"
   ]
  },
  {
   "cell_type": "code",
   "execution_count": 50,
   "id": "e41c9362",
   "metadata": {},
   "outputs": [],
   "source": [
    "ds_new = ds_scaled.tolist()"
   ]
  },
  {
   "cell_type": "code",
   "execution_count": 51,
   "id": "d6c8d3c1",
   "metadata": {},
   "outputs": [
    {
     "data": {
      "text/plain": [
       "1969"
      ]
     },
     "execution_count": 51,
     "metadata": {},
     "output_type": "execute_result"
    }
   ],
   "source": [
    "len(ds_new)"
   ]
  },
  {
   "cell_type": "code",
   "execution_count": 52,
   "id": "24e99607",
   "metadata": {},
   "outputs": [
    {
     "data": {
      "text/plain": [
       "[<matplotlib.lines.Line2D at 0x1c12b4cae50>]"
      ]
     },
     "execution_count": 52,
     "metadata": {},
     "output_type": "execute_result"
    },
    {
     "data": {
      "image/png": "[encoded data removed]",
      "text/plain": [
       "<Figure size 432x288 with 1 Axes>"
      ]
     },
     "metadata": {
      "needs_background": "light"
     },
     "output_type": "display_data"
    }
   ],
   "source": [
    "#Entends helps us to fill the missing value with approx value\n",
    "ds_new.extend(lst_output)\n",
    "plt.plot(ds_new[1200:])"
   ]
  },
  {
   "cell_type": "code",
   "execution_count": 53,
   "id": "7f04f058",
   "metadata": {},
   "outputs": [],
   "source": [
    "#Creating final data for plotting\n",
    "final_graph = normalizer.inverse_transform(ds_new).tolist()"
   ]
  },
  {
   "cell_type": "code",
   "execution_count": 54,
   "id": "2dfdef30",
   "metadata": {},
   "outputs": [
    {
     "data": {
      "text/plain": [
       "<matplotlib.legend.Legend at 0x1c12b4f7c40>"
      ]
     },
     "execution_count": 54,
     "metadata": {},
     "output_type": "execute_result"
    },
    {
     "data": {
      "image/png": "[encoded data removed]",
      "text/plain": [
       "<Figure size 432x288 with 1 Axes>"
      ]
     },
     "metadata": {
      "needs_background": "light"
     },
     "output_type": "display_data"
    }
   ],
   "source": [
    "#Plotting final results with predicted value after 30 Days\n",
    "plt.plot(final_graph,)\n",
    "plt.ylabel(\"Price\")\n",
    "plt.xlabel(\"Time\")\n",
    "plt.title(\"{0} prediction of next month open\".format(stock_symbol))\n",
    "plt.axhline(y=final_graph[len(final_graph)-1], color = 'red', linestyle = ':', label = 'NEXT 30D: {0}'.format(round(float(*final_graph[len(final_graph)-1]),2)))\n",
    "plt.legend()\n",
    "\n"
   ]
  },
  {
   "cell_type": "code",
   "execution_count": null,
   "id": "eaa8a237",
   "metadata": {},
   "outputs": [],
   "source": []
  }
 ],
 "metadata": {
  "kernelspec": {
   "display_name": "Python 3 (ipykernel)",
   "language": "python",
   "name": "python3"
  },
  "language_info": {
   "codemirror_mode": {
    "name": "ipython",
    "version": 3
   },
   "file_extension": ".py",
   "mimetype": "text/x-python",
   "name": "python",
   "nbconvert_exporter": "python",
   "pygments_lexer": "ipython3",
   "version": "3.9.7"
  }
 },
 "nbformat": 4,
 "nbformat_minor": 5
}
