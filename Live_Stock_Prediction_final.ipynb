{
 "cells": [
  {
   "cell_type": "code",
   "execution_count": 1,
   "id": "f91eb4e9",
   "metadata": {},
   "outputs": [],
   "source": [
    "import numpy as np\n",
    "import pandas as pd\n",
    "import yfinance as yf\n",
    "import datetime as dt\n",
    "import seaborn as sns\n",
    "import numpy as np\n",
    "import matplotlib.pyplot as plt\n",
    "import matplotlib.pyplot as plt\n",
    "from sklearn.preprocessing import MinMaxScaler\n",
    "import pandas_datareader as df\n",
    "from keras.models import load_model\n",
    "from keras.models import Sequential\n",
    "from keras.layers import Dense, LSTM"
   ]
  },
  {
   "cell_type": "code",
   "execution_count": 2,
   "id": "ee00f18c",
   "metadata": {},
   "outputs": [],
   "source": [
    "#We are going to use the Indian Company \"GAIL(Gas Authority of India Ltd)\" stock value\n",
    "stock_symbol = 'GAIL.NS'"
   ]
  },
  {
   "cell_type": "code",
   "execution_count": 3,
   "id": "d365868a",
   "metadata": {},
   "outputs": [
    {
     "name": "stdout",
     "output_type": "stream",
     "text": [
      "Enter a date in YYYY-MM-DD format2022-03-21\n",
      "[*********************100%***********************]  1 of 1 completed\n"
     ]
    }
   ],
   "source": [
    "#We have taken last 8 years data with interval of 1 day\n",
    "date_entry = input('Enter a date in YYYY-MM-DD format')\n",
    "year, month, day = map(int, date_entry.split('-'))\n",
    "end_date = dt.date(year, month, day)\n",
    "#end_date = dt.datetime.strptime(\"2022-02-11\", \"%Y-%m-%d\").date()\n",
    "start_date=end_date-dt.timedelta(days=365*5)\n",
    "data = yf.download(tickers=stock_symbol,start=start_date,end=end_date,interval='1d')"
   ]
  },
  {
   "cell_type": "code",
   "execution_count": 4,
   "id": "9f82e205",
   "metadata": {},
   "outputs": [
    {
     "data": {
      "text/plain": [
       "pandas.core.frame.DataFrame"
      ]
     },
     "execution_count": 4,
     "metadata": {},
     "output_type": "execute_result"
    }
   ],
   "source": [
    "type(data)"
   ]
  },
  {
   "cell_type": "code",
   "execution_count": 5,
   "id": "dbbe3e6b",
   "metadata": {},
   "outputs": [
    {
     "data": {
      "text/html": [
       "<div>\n",
       "<style scoped>\n",
       "    .dataframe tbody tr th:only-of-type {\n",
       "        vertical-align: middle;\n",
       "    }\n",
       "\n",
       "    .dataframe tbody tr th {\n",
       "        vertical-align: top;\n",
       "    }\n",
       "\n",
       "    .dataframe thead th {\n",
       "        text-align: right;\n",
       "    }\n",
       "</style>\n",
       "<table border=\"1\" class=\"dataframe\">\n",
       "  <thead>\n",
       "    <tr style=\"text-align: right;\">\n",
       "      <th></th>\n",
       "      <th>Open</th>\n",
       "      <th>High</th>\n",
       "      <th>Low</th>\n",
       "      <th>Close</th>\n",
       "      <th>Adj Close</th>\n",
       "      <th>Volume</th>\n",
       "    </tr>\n",
       "    <tr>\n",
       "      <th>Date</th>\n",
       "      <th></th>\n",
       "      <th></th>\n",
       "      <th></th>\n",
       "      <th></th>\n",
       "      <th></th>\n",
       "      <th></th>\n",
       "    </tr>\n",
       "  </thead>\n",
       "  <tbody>\n",
       "    <tr>\n",
       "      <th>2017-03-22</th>\n",
       "      <td>138.337540</td>\n",
       "      <td>139.425034</td>\n",
       "      <td>137.756287</td>\n",
       "      <td>138.375031</td>\n",
       "      <td>112.304649</td>\n",
       "      <td>8086003.0</td>\n",
       "    </tr>\n",
       "    <tr>\n",
       "      <th>2017-03-23</th>\n",
       "      <td>139.087540</td>\n",
       "      <td>141.712540</td>\n",
       "      <td>138.525040</td>\n",
       "      <td>141.337540</td>\n",
       "      <td>114.709000</td>\n",
       "      <td>10187933.0</td>\n",
       "    </tr>\n",
       "    <tr>\n",
       "      <th>2017-03-24</th>\n",
       "      <td>141.356277</td>\n",
       "      <td>143.625031</td>\n",
       "      <td>140.625031</td>\n",
       "      <td>142.987534</td>\n",
       "      <td>116.048119</td>\n",
       "      <td>9179917.0</td>\n",
       "    </tr>\n",
       "    <tr>\n",
       "      <th>2017-03-27</th>\n",
       "      <td>143.550034</td>\n",
       "      <td>144.000031</td>\n",
       "      <td>140.643784</td>\n",
       "      <td>140.887527</td>\n",
       "      <td>114.343773</td>\n",
       "      <td>5957651.0</td>\n",
       "    </tr>\n",
       "    <tr>\n",
       "      <th>2017-03-28</th>\n",
       "      <td>141.543777</td>\n",
       "      <td>141.543777</td>\n",
       "      <td>139.350037</td>\n",
       "      <td>140.550034</td>\n",
       "      <td>114.069870</td>\n",
       "      <td>9107608.0</td>\n",
       "    </tr>\n",
       "  </tbody>\n",
       "</table>\n",
       "</div>"
      ],
      "text/plain": [
       "                  Open        High         Low       Close   Adj Close  \\\n",
       "Date                                                                     \n",
       "2017-03-22  138.337540  139.425034  137.756287  138.375031  112.304649   \n",
       "2017-03-23  139.087540  141.712540  138.525040  141.337540  114.709000   \n",
       "2017-03-24  141.356277  143.625031  140.625031  142.987534  116.048119   \n",
       "2017-03-27  143.550034  144.000031  140.643784  140.887527  114.343773   \n",
       "2017-03-28  141.543777  141.543777  139.350037  140.550034  114.069870   \n",
       "\n",
       "                Volume  \n",
       "Date                    \n",
       "2017-03-22   8086003.0  \n",
       "2017-03-23  10187933.0  \n",
       "2017-03-24   9179917.0  \n",
       "2017-03-27   5957651.0  \n",
       "2017-03-28   9107608.0  "
      ]
     },
     "execution_count": 5,
     "metadata": {},
     "output_type": "execute_result"
    }
   ],
   "source": [
    "data.head()"
   ]
  },
  {
   "cell_type": "code",
   "execution_count": 6,
   "id": "8fa2aa8c",
   "metadata": {},
   "outputs": [
    {
     "data": {
      "text/html": [
       "<div>\n",
       "<style scoped>\n",
       "    .dataframe tbody tr th:only-of-type {\n",
       "        vertical-align: middle;\n",
       "    }\n",
       "\n",
       "    .dataframe tbody tr th {\n",
       "        vertical-align: top;\n",
       "    }\n",
       "\n",
       "    .dataframe thead th {\n",
       "        text-align: right;\n",
       "    }\n",
       "</style>\n",
       "<table border=\"1\" class=\"dataframe\">\n",
       "  <thead>\n",
       "    <tr style=\"text-align: right;\">\n",
       "      <th></th>\n",
       "      <th>Open</th>\n",
       "      <th>High</th>\n",
       "      <th>Low</th>\n",
       "      <th>Close</th>\n",
       "      <th>Adj Close</th>\n",
       "      <th>Volume</th>\n",
       "    </tr>\n",
       "  </thead>\n",
       "  <tbody>\n",
       "    <tr>\n",
       "      <th>count</th>\n",
       "      <td>1234.000000</td>\n",
       "      <td>1234.000000</td>\n",
       "      <td>1234.000000</td>\n",
       "      <td>1234.000000</td>\n",
       "      <td>1234.000000</td>\n",
       "      <td>1.234000e+03</td>\n",
       "    </tr>\n",
       "    <tr>\n",
       "      <th>mean</th>\n",
       "      <td>144.316266</td>\n",
       "      <td>146.440506</td>\n",
       "      <td>141.930012</td>\n",
       "      <td>143.982423</td>\n",
       "      <td>124.899861</td>\n",
       "      <td>1.258432e+07</td>\n",
       "    </tr>\n",
       "    <tr>\n",
       "      <th>std</th>\n",
       "      <td>28.884216</td>\n",
       "      <td>29.060665</td>\n",
       "      <td>28.596453</td>\n",
       "      <td>28.815575</td>\n",
       "      <td>22.892300</td>\n",
       "      <td>9.703150e+06</td>\n",
       "    </tr>\n",
       "    <tr>\n",
       "      <th>min</th>\n",
       "      <td>68.449997</td>\n",
       "      <td>72.250000</td>\n",
       "      <td>65.000000</td>\n",
       "      <td>69.400002</td>\n",
       "      <td>62.700565</td>\n",
       "      <td>3.999520e+05</td>\n",
       "    </tr>\n",
       "    <tr>\n",
       "      <th>25%</th>\n",
       "      <td>128.000000</td>\n",
       "      <td>129.899994</td>\n",
       "      <td>125.712498</td>\n",
       "      <td>128.000000</td>\n",
       "      <td>110.404707</td>\n",
       "      <td>6.920120e+06</td>\n",
       "    </tr>\n",
       "    <tr>\n",
       "      <th>50%</th>\n",
       "      <td>146.250000</td>\n",
       "      <td>148.700020</td>\n",
       "      <td>144.325005</td>\n",
       "      <td>146.074997</td>\n",
       "      <td>131.477005</td>\n",
       "      <td>9.791348e+06</td>\n",
       "    </tr>\n",
       "    <tr>\n",
       "      <th>75%</th>\n",
       "      <td>168.237499</td>\n",
       "      <td>170.843750</td>\n",
       "      <td>165.268745</td>\n",
       "      <td>167.599998</td>\n",
       "      <td>142.649555</td>\n",
       "      <td>1.513617e+07</td>\n",
       "    </tr>\n",
       "    <tr>\n",
       "      <th>max</th>\n",
       "      <td>197.000000</td>\n",
       "      <td>199.699997</td>\n",
       "      <td>192.100006</td>\n",
       "      <td>196.899994</td>\n",
       "      <td>163.547394</td>\n",
       "      <td>1.147153e+08</td>\n",
       "    </tr>\n",
       "  </tbody>\n",
       "</table>\n",
       "</div>"
      ],
      "text/plain": [
       "              Open         High          Low        Close    Adj Close  \\\n",
       "count  1234.000000  1234.000000  1234.000000  1234.000000  1234.000000   \n",
       "mean    144.316266   146.440506   141.930012   143.982423   124.899861   \n",
       "std      28.884216    29.060665    28.596453    28.815575    22.892300   \n",
       "min      68.449997    72.250000    65.000000    69.400002    62.700565   \n",
       "25%     128.000000   129.899994   125.712498   128.000000   110.404707   \n",
       "50%     146.250000   148.700020   144.325005   146.074997   131.477005   \n",
       "75%     168.237499   170.843750   165.268745   167.599998   142.649555   \n",
       "max     197.000000   199.699997   192.100006   196.899994   163.547394   \n",
       "\n",
       "             Volume  \n",
       "count  1.234000e+03  \n",
       "mean   1.258432e+07  \n",
       "std    9.703150e+06  \n",
       "min    3.999520e+05  \n",
       "25%    6.920120e+06  \n",
       "50%    9.791348e+06  \n",
       "75%    1.513617e+07  \n",
       "max    1.147153e+08  "
      ]
     },
     "execution_count": 6,
     "metadata": {},
     "output_type": "execute_result"
    }
   ],
   "source": [
    "data.describe() #We are displaying the characteristics of the dataset"
   ]
  },
  {
   "cell_type": "code",
   "execution_count": 7,
   "id": "9d445949",
   "metadata": {},
   "outputs": [
    {
     "data": {
      "text/plain": [
       "1235"
      ]
     },
     "execution_count": 7,
     "metadata": {},
     "output_type": "execute_result"
    }
   ],
   "source": [
    "len(data)"
   ]
  },
  {
   "cell_type": "code",
   "execution_count": 8,
   "id": "bf283ad5",
   "metadata": {},
   "outputs": [
    {
     "data": {
      "text/html": [
       "<div>\n",
       "<style scoped>\n",
       "    .dataframe tbody tr th:only-of-type {\n",
       "        vertical-align: middle;\n",
       "    }\n",
       "\n",
       "    .dataframe tbody tr th {\n",
       "        vertical-align: top;\n",
       "    }\n",
       "\n",
       "    .dataframe thead th {\n",
       "        text-align: right;\n",
       "    }\n",
       "</style>\n",
       "<table border=\"1\" class=\"dataframe\">\n",
       "  <thead>\n",
       "    <tr style=\"text-align: right;\">\n",
       "      <th></th>\n",
       "      <th>Open</th>\n",
       "      <th>High</th>\n",
       "      <th>Low</th>\n",
       "      <th>Close</th>\n",
       "      <th>Adj Close</th>\n",
       "      <th>Volume</th>\n",
       "    </tr>\n",
       "    <tr>\n",
       "      <th>Date</th>\n",
       "      <th></th>\n",
       "      <th></th>\n",
       "      <th></th>\n",
       "      <th></th>\n",
       "      <th></th>\n",
       "      <th></th>\n",
       "    </tr>\n",
       "  </thead>\n",
       "  <tbody>\n",
       "    <tr>\n",
       "      <th>2022-03-14</th>\n",
       "      <td>153.899994</td>\n",
       "      <td>156.399994</td>\n",
       "      <td>150.899994</td>\n",
       "      <td>152.350006</td>\n",
       "      <td>147.315308</td>\n",
       "      <td>17853417.0</td>\n",
       "    </tr>\n",
       "    <tr>\n",
       "      <th>2022-03-15</th>\n",
       "      <td>151.600006</td>\n",
       "      <td>151.899994</td>\n",
       "      <td>146.699997</td>\n",
       "      <td>148.449997</td>\n",
       "      <td>143.544189</td>\n",
       "      <td>20524474.0</td>\n",
       "    </tr>\n",
       "    <tr>\n",
       "      <th>2022-03-16</th>\n",
       "      <td>149.699997</td>\n",
       "      <td>152.800003</td>\n",
       "      <td>148.000000</td>\n",
       "      <td>152.399994</td>\n",
       "      <td>147.363647</td>\n",
       "      <td>15249761.0</td>\n",
       "    </tr>\n",
       "    <tr>\n",
       "      <th>2022-03-17</th>\n",
       "      <td>153.250000</td>\n",
       "      <td>154.149994</td>\n",
       "      <td>150.600006</td>\n",
       "      <td>151.300003</td>\n",
       "      <td>146.300003</td>\n",
       "      <td>18044254.0</td>\n",
       "    </tr>\n",
       "    <tr>\n",
       "      <th>2022-03-21</th>\n",
       "      <td>NaN</td>\n",
       "      <td>NaN</td>\n",
       "      <td>NaN</td>\n",
       "      <td>NaN</td>\n",
       "      <td>NaN</td>\n",
       "      <td>NaN</td>\n",
       "    </tr>\n",
       "  </tbody>\n",
       "</table>\n",
       "</div>"
      ],
      "text/plain": [
       "                  Open        High         Low       Close   Adj Close  \\\n",
       "Date                                                                     \n",
       "2022-03-14  153.899994  156.399994  150.899994  152.350006  147.315308   \n",
       "2022-03-15  151.600006  151.899994  146.699997  148.449997  143.544189   \n",
       "2022-03-16  149.699997  152.800003  148.000000  152.399994  147.363647   \n",
       "2022-03-17  153.250000  154.149994  150.600006  151.300003  146.300003   \n",
       "2022-03-21         NaN         NaN         NaN         NaN         NaN   \n",
       "\n",
       "                Volume  \n",
       "Date                    \n",
       "2022-03-14  17853417.0  \n",
       "2022-03-15  20524474.0  \n",
       "2022-03-16  15249761.0  \n",
       "2022-03-17  18044254.0  \n",
       "2022-03-21         NaN  "
      ]
     },
     "execution_count": 8,
     "metadata": {},
     "output_type": "execute_result"
    }
   ],
   "source": [
    "data.tail()"
   ]
  },
  {
   "cell_type": "code",
   "execution_count": 9,
   "id": "13b3c362",
   "metadata": {},
   "outputs": [
    {
     "data": {
      "text/plain": [
       "<AxesSubplot:>"
      ]
     },
     "execution_count": 9,
     "metadata": {},
     "output_type": "execute_result"
    },
    {
     "data": {
      "image/png": "[encoded data removed]",
      "text/plain": [
       "<Figure size 504x360 with 2 Axes>"
      ]
     },
     "metadata": {
      "needs_background": "light"
     },
     "output_type": "display_data"
    }
   ],
   "source": [
    "plt.figure(figsize=(7,5))\n",
    "sns.heatmap(data.corr(),cmap=\"Blues\",annot=True)\n",
    "#It displays the co-relation between the columns of the dataset"
   ]
  },
  {
   "cell_type": "code",
   "execution_count": 10,
   "id": "1a6d95e3",
   "metadata": {},
   "outputs": [],
   "source": [
    "d2=data.copy()"
   ]
  },
  {
   "cell_type": "code",
   "execution_count": 11,
   "id": "6a381d05",
   "metadata": {},
   "outputs": [
    {
     "data": {
      "text/html": [
       "<div>\n",
       "<style scoped>\n",
       "    .dataframe tbody tr th:only-of-type {\n",
       "        vertical-align: middle;\n",
       "    }\n",
       "\n",
       "    .dataframe tbody tr th {\n",
       "        vertical-align: top;\n",
       "    }\n",
       "\n",
       "    .dataframe thead th {\n",
       "        text-align: right;\n",
       "    }\n",
       "</style>\n",
       "<table border=\"1\" class=\"dataframe\">\n",
       "  <thead>\n",
       "    <tr style=\"text-align: right;\">\n",
       "      <th></th>\n",
       "      <th>Volume</th>\n",
       "      <th>open-high</th>\n",
       "      <th>open-low</th>\n",
       "      <th>close-high</th>\n",
       "      <th>close-low</th>\n",
       "      <th>high-low</th>\n",
       "      <th>open-close</th>\n",
       "    </tr>\n",
       "    <tr>\n",
       "      <th>Date</th>\n",
       "      <th></th>\n",
       "      <th></th>\n",
       "      <th></th>\n",
       "      <th></th>\n",
       "      <th></th>\n",
       "      <th></th>\n",
       "      <th></th>\n",
       "    </tr>\n",
       "  </thead>\n",
       "  <tbody>\n",
       "    <tr>\n",
       "      <th>2022-03-14</th>\n",
       "      <td>17853417.0</td>\n",
       "      <td>-2.500000</td>\n",
       "      <td>3.000000</td>\n",
       "      <td>-4.049988</td>\n",
       "      <td>1.450012</td>\n",
       "      <td>5.500000</td>\n",
       "      <td>1.549988</td>\n",
       "    </tr>\n",
       "    <tr>\n",
       "      <th>2022-03-15</th>\n",
       "      <td>20524474.0</td>\n",
       "      <td>-0.299988</td>\n",
       "      <td>4.900009</td>\n",
       "      <td>-3.449997</td>\n",
       "      <td>1.750000</td>\n",
       "      <td>5.199997</td>\n",
       "      <td>3.150009</td>\n",
       "    </tr>\n",
       "    <tr>\n",
       "      <th>2022-03-16</th>\n",
       "      <td>15249761.0</td>\n",
       "      <td>-3.100006</td>\n",
       "      <td>1.699997</td>\n",
       "      <td>-0.400009</td>\n",
       "      <td>4.399994</td>\n",
       "      <td>4.800003</td>\n",
       "      <td>-2.699997</td>\n",
       "    </tr>\n",
       "    <tr>\n",
       "      <th>2022-03-17</th>\n",
       "      <td>18044254.0</td>\n",
       "      <td>-0.899994</td>\n",
       "      <td>2.649994</td>\n",
       "      <td>-2.849991</td>\n",
       "      <td>0.699997</td>\n",
       "      <td>3.549988</td>\n",
       "      <td>1.949997</td>\n",
       "    </tr>\n",
       "    <tr>\n",
       "      <th>2022-03-21</th>\n",
       "      <td>NaN</td>\n",
       "      <td>NaN</td>\n",
       "      <td>NaN</td>\n",
       "      <td>NaN</td>\n",
       "      <td>NaN</td>\n",
       "      <td>NaN</td>\n",
       "      <td>NaN</td>\n",
       "    </tr>\n",
       "  </tbody>\n",
       "</table>\n",
       "</div>"
      ],
      "text/plain": [
       "                Volume  open-high  open-low  close-high  close-low  high-low  \\\n",
       "Date                                                                           \n",
       "2022-03-14  17853417.0  -2.500000  3.000000   -4.049988   1.450012  5.500000   \n",
       "2022-03-15  20524474.0  -0.299988  4.900009   -3.449997   1.750000  5.199997   \n",
       "2022-03-16  15249761.0  -3.100006  1.699997   -0.400009   4.399994  4.800003   \n",
       "2022-03-17  18044254.0  -0.899994  2.649994   -2.849991   0.699997  3.549988   \n",
       "2022-03-21         NaN        NaN       NaN         NaN        NaN       NaN   \n",
       "\n",
       "            open-close  \n",
       "Date                    \n",
       "2022-03-14    1.549988  \n",
       "2022-03-15    3.150009  \n",
       "2022-03-16   -2.699997  \n",
       "2022-03-17    1.949997  \n",
       "2022-03-21         NaN  "
      ]
     },
     "execution_count": 11,
     "metadata": {},
     "output_type": "execute_result"
    }
   ],
   "source": [
    "d2['open-high'] = d2['Open']-d2['High']\n",
    "d2['open-low'] = d2['Open'] - d2['Low']\n",
    "d2['close-high'] = d2['Close']-d2['High']\n",
    "d2['close-low'] = d2['Close'] - d2['Low']\n",
    "d2['high-low'] = d2['High'] - d2['Low']\n",
    "d2['open-close'] = d2['Open'] - d2['Close']\n",
    "d2=d2.drop(['Open','High','Low','Close','Adj Close'],axis=1)\n",
    "d2.tail()"
   ]
  },
  {
   "cell_type": "code",
   "execution_count": 12,
   "id": "421b5258",
   "metadata": {},
   "outputs": [
    {
     "data": {
      "text/plain": [
       "<AxesSubplot:>"
      ]
     },
     "execution_count": 12,
     "metadata": {},
     "output_type": "execute_result"
    },
    {
     "data": {
      "image/png": "[encoded data removed]",
      "text/plain": [
       "<Figure size 504x360 with 2 Axes>"
      ]
     },
     "metadata": {
      "needs_background": "light"
     },
     "output_type": "display_data"
    }
   ],
   "source": [
    "plt.figure(figsize=(7,5))\n",
    "sns.heatmap(d2.corr(),cmap=\"Blues\",annot=True)"
   ]
  },
  {
   "cell_type": "code",
   "execution_count": 13,
   "id": "6292e20a",
   "metadata": {},
   "outputs": [],
   "source": [
    "opn = data[['Open']] #It denotes the opening stock value"
   ]
  },
  {
   "cell_type": "code",
   "execution_count": 14,
   "id": "21e132d8",
   "metadata": {},
   "outputs": [
    {
     "data": {
      "text/plain": [
       "<AxesSubplot:xlabel='Date'>"
      ]
     },
     "execution_count": 14,
     "metadata": {},
     "output_type": "execute_result"
    },
    {
     "data": {
      "image/png": "[encoded data removed]",
      "text/plain": [
       "<Figure size 432x288 with 1 Axes>"
      ]
     },
     "metadata": {
      "needs_background": "light"
     },
     "output_type": "display_data"
    }
   ],
   "source": [
    "opn.plot()"
   ]
  },
  {
   "cell_type": "code",
   "execution_count": 15,
   "id": "8038cb6a",
   "metadata": {},
   "outputs": [],
   "source": [
    "ds = opn.values"
   ]
  },
  {
   "cell_type": "code",
   "execution_count": 16,
   "id": "af022e3c",
   "metadata": {},
   "outputs": [
    {
     "data": {
      "text/plain": [
       "[<matplotlib.lines.Line2D at 0x1a6889779d0>]"
      ]
     },
     "execution_count": 16,
     "metadata": {},
     "output_type": "execute_result"
    },
    {
     "data": {
      "image/png": "[encoded data removed]",
      "text/plain": [
       "<Figure size 432x288 with 1 Axes>"
      ]
     },
     "metadata": {
      "needs_background": "light"
     },
     "output_type": "display_data"
    }
   ],
   "source": [
    "plt.plot(ds)"
   ]
  },
  {
   "cell_type": "code",
   "execution_count": 17,
   "id": "cf6a3e1b",
   "metadata": {},
   "outputs": [],
   "source": [
    "#We are using MinMaxScaler for scaling (Subtracts the min value and divides by the range)\n",
    "normalizer = MinMaxScaler(feature_range=(0,1))\n",
    "ds_scaled = normalizer.fit_transform(np.array(ds).reshape(-1,1))"
   ]
  },
  {
   "cell_type": "code",
   "execution_count": 54,
   "id": "a1d89909",
   "metadata": {},
   "outputs": [
    {
     "name": "stdout",
     "output_type": "stream",
     "text": [
      "[[0.54366037]\n",
      " [0.54949468]\n",
      " [0.56714336]\n",
      " ...\n",
      " [0.63204977]\n",
      " [0.65966551]\n",
      " [       nan]]\n"
     ]
    }
   ],
   "source": [
    "print(ds_scaled)"
   ]
  },
  {
   "cell_type": "code",
   "execution_count": 18,
   "id": "7dbea1d5",
   "metadata": {},
   "outputs": [
    {
     "data": {
      "text/plain": [
       "(1235, 1)"
      ]
     },
     "execution_count": 18,
     "metadata": {},
     "output_type": "execute_result"
    }
   ],
   "source": [
    "ds_scaled.shape"
   ]
  },
  {
   "cell_type": "code",
   "execution_count": 19,
   "id": "a20c5654",
   "metadata": {},
   "outputs": [],
   "source": [
    "#We are defining test and train data sizes\n",
    "train_size = int(len(ds_scaled)*0.70)\n",
    "test_size = len(ds_scaled) - train_size"
   ]
  },
  {
   "cell_type": "code",
   "execution_count": 20,
   "id": "b964aa4e",
   "metadata": {},
   "outputs": [
    {
     "data": {
      "text/plain": [
       "(864, 371)"
      ]
     },
     "execution_count": 20,
     "metadata": {},
     "output_type": "execute_result"
    }
   ],
   "source": [
    "train_size,test_size"
   ]
  },
  {
   "cell_type": "code",
   "execution_count": 21,
   "id": "25ca615e",
   "metadata": {},
   "outputs": [],
   "source": [
    "#We are splitting dataset into train and test dataset\n",
    "ds_train, ds_test = ds_scaled[0:train_size,:], ds_scaled[train_size:len(ds_scaled)-1,:1]"
   ]
  },
  {
   "cell_type": "code",
   "execution_count": 22,
   "id": "95913f28",
   "metadata": {},
   "outputs": [
    {
     "data": {
      "text/plain": [
       "(864, 370)"
      ]
     },
     "execution_count": 22,
     "metadata": {},
     "output_type": "execute_result"
    }
   ],
   "source": [
    "len(ds_train),len(ds_test)"
   ]
  },
  {
   "cell_type": "code",
   "execution_count": 23,
   "id": "5dd0b45e",
   "metadata": {},
   "outputs": [],
   "source": [
    "#we created a function for making a time series dataset for the model\n",
    "def create_ds(dataset,step):\n",
    "    Xtrain, Ytrain = [], []\n",
    "    for i in range(len(dataset)-step-1):\n",
    "        a = dataset[i:(i+step), 0]\n",
    "        Xtrain.append(a)\n",
    "        Ytrain.append(dataset[i + step, 0])\n",
    "    return np.array(Xtrain), np.array(Ytrain)"
   ]
  },
  {
   "cell_type": "code",
   "execution_count": 24,
   "id": "d28b7d1d",
   "metadata": {},
   "outputs": [],
   "source": [
    "#We are taking 100 days price as one record for training\n",
    "time_stamp = 100\n",
    "X_train, y_train = create_ds(ds_train,time_stamp)\n",
    "X_test, y_test = create_ds(ds_test,time_stamp)"
   ]
  },
  {
   "cell_type": "code",
   "execution_count": 25,
   "id": "03ce9096",
   "metadata": {},
   "outputs": [
    {
     "data": {
      "text/plain": [
       "((763, 100), (763,))"
      ]
     },
     "execution_count": 25,
     "metadata": {},
     "output_type": "execute_result"
    }
   ],
   "source": [
    "X_train.shape,y_train.shape"
   ]
  },
  {
   "cell_type": "code",
   "execution_count": 26,
   "id": "84acdd72",
   "metadata": {},
   "outputs": [
    {
     "data": {
      "text/plain": [
       "((269, 100), (269,))"
      ]
     },
     "execution_count": 26,
     "metadata": {},
     "output_type": "execute_result"
    }
   ],
   "source": [
    "X_test.shape, y_test.shape"
   ]
  },
  {
   "cell_type": "code",
   "execution_count": 27,
   "id": "c657d193",
   "metadata": {},
   "outputs": [],
   "source": [
    "#We are reshaping data to fit into LSTM model\n",
    "X_train = X_train.reshape(X_train.shape[0],X_train.shape[1] , 1)\n",
    "X_test = X_test.reshape(X_test.shape[0],X_test.shape[1] , 1)"
   ]
  },
  {
   "cell_type": "markdown",
   "id": "aa8f9aeb",
   "metadata": {},
   "source": [
    "from keras.models import Sequential\n",
    "from keras.layers import Dense, LSTM"
   ]
  },
  {
   "cell_type": "code",
   "execution_count": 28,
   "id": "b5250913",
   "metadata": {},
   "outputs": [
    {
     "name": "stdout",
     "output_type": "stream",
     "text": [
      "Model: \"sequential\"\n",
      "_________________________________________________________________\n",
      " Layer (type)                Output Shape              Param #   \n",
      "=================================================================\n",
      " lstm (LSTM)                 (None, 100, 50)           10400     \n",
      "                                                                 \n",
      " lstm_1 (LSTM)               (None, 100, 50)           20200     \n",
      "                                                                 \n",
      " lstm_2 (LSTM)               (None, 50)                20200     \n",
      "                                                                 \n",
      " dense (Dense)               (None, 1)                 51        \n",
      "                                                                 \n",
      "=================================================================\n",
      "Total params: 50,851\n",
      "Trainable params: 50,851\n",
      "Non-trainable params: 0\n",
      "_________________________________________________________________\n"
     ]
    }
   ],
   "source": [
    "#In this step, we created an LSTM model using keras\n",
    "model = Sequential()\n",
    "model.add(LSTM(units=50,return_sequences=True,input_shape=(X_train.shape[1],1)))\n",
    "model.add(LSTM(units=50,return_sequences=True))\n",
    "model.add(LSTM(units=50))\n",
    "model.add(Dense(units=1,activation='linear'))\n",
    "model.summary()"
   ]
  },
  {
   "cell_type": "code",
   "execution_count": 29,
   "id": "7e8ff062",
   "metadata": {},
   "outputs": [
    {
     "name": "stdout",
     "output_type": "stream",
     "text": [
      "Epoch 1/50\n",
      "6/6 [==============================] - 8s 626ms/step - loss: 0.2395 - val_loss: 0.0095\n",
      "Epoch 2/50\n",
      "6/6 [==============================] - 2s 286ms/step - loss: 0.0414 - val_loss: 0.0042\n",
      "Epoch 3/50\n",
      "6/6 [==============================] - 2s 305ms/step - loss: 0.0260 - val_loss: 0.0138\n",
      "Epoch 4/50\n",
      "6/6 [==============================] - 2s 323ms/step - loss: 0.0161 - val_loss: 0.0131\n",
      "Epoch 5/50\n",
      "6/6 [==============================] - 2s 289ms/step - loss: 0.0149 - val_loss: 0.0061\n",
      "Epoch 6/50\n",
      "6/6 [==============================] - 2s 277ms/step - loss: 0.0099 - val_loss: 0.0054\n",
      "Epoch 7/50\n",
      "6/6 [==============================] - 2s 271ms/step - loss: 0.0081 - val_loss: 0.0060\n",
      "Epoch 8/50\n",
      "6/6 [==============================] - 2s 270ms/step - loss: 0.0066 - val_loss: 0.0043\n",
      "Epoch 9/50\n",
      "6/6 [==============================] - 2s 264ms/step - loss: 0.0053 - val_loss: 0.0042\n",
      "Epoch 10/50\n",
      "6/6 [==============================] - 2s 271ms/step - loss: 0.0045 - val_loss: 0.0046\n",
      "Epoch 11/50\n",
      "6/6 [==============================] - 2s 281ms/step - loss: 0.0042 - val_loss: 0.0045\n",
      "Epoch 12/50\n",
      "6/6 [==============================] - 2s 262ms/step - loss: 0.0041 - val_loss: 0.0044\n",
      "Epoch 13/50\n",
      "6/6 [==============================] - 2s 277ms/step - loss: 0.0040 - val_loss: 0.0045\n",
      "Epoch 14/50\n",
      "6/6 [==============================] - 2s 278ms/step - loss: 0.0040 - val_loss: 0.0043\n",
      "Epoch 15/50\n",
      "6/6 [==============================] - 2s 283ms/step - loss: 0.0040 - val_loss: 0.0044\n",
      "Epoch 16/50\n",
      "6/6 [==============================] - 2s 273ms/step - loss: 0.0039 - val_loss: 0.0042\n",
      "Epoch 17/50\n",
      "6/6 [==============================] - 2s 267ms/step - loss: 0.0038 - val_loss: 0.0042\n",
      "Epoch 18/50\n",
      "6/6 [==============================] - 2s 279ms/step - loss: 0.0037 - val_loss: 0.0041\n",
      "Epoch 19/50\n",
      "6/6 [==============================] - 2s 285ms/step - loss: 0.0037 - val_loss: 0.0042\n",
      "Epoch 20/50\n",
      "6/6 [==============================] - 2s 279ms/step - loss: 0.0036 - val_loss: 0.0041\n",
      "Epoch 21/50\n",
      "6/6 [==============================] - 2s 279ms/step - loss: 0.0036 - val_loss: 0.0041\n",
      "Epoch 22/50\n",
      "6/6 [==============================] - 2s 280ms/step - loss: 0.0036 - val_loss: 0.0041\n",
      "Epoch 23/50\n",
      "6/6 [==============================] - 2s 284ms/step - loss: 0.0035 - val_loss: 0.0040\n",
      "Epoch 24/50\n",
      "6/6 [==============================] - 2s 315ms/step - loss: 0.0035 - val_loss: 0.0040\n",
      "Epoch 25/50\n",
      "6/6 [==============================] - 2s 308ms/step - loss: 0.0035 - val_loss: 0.0039\n",
      "Epoch 26/50\n",
      "6/6 [==============================] - 2s 351ms/step - loss: 0.0034 - val_loss: 0.0040\n",
      "Epoch 27/50\n",
      "6/6 [==============================] - 2s 341ms/step - loss: 0.0034 - val_loss: 0.0040\n",
      "Epoch 28/50\n",
      "6/6 [==============================] - 2s 336ms/step - loss: 0.0033 - val_loss: 0.0039\n",
      "Epoch 29/50\n",
      "6/6 [==============================] - 2s 350ms/step - loss: 0.0034 - val_loss: 0.0043\n",
      "Epoch 30/50\n",
      "6/6 [==============================] - 2s 322ms/step - loss: 0.0033 - val_loss: 0.0038\n",
      "Epoch 31/50\n",
      "6/6 [==============================] - 2s 300ms/step - loss: 0.0032 - val_loss: 0.0038\n",
      "Epoch 32/50\n",
      "6/6 [==============================] - 2s 277ms/step - loss: 0.0032 - val_loss: 0.0037\n",
      "Epoch 33/50\n",
      "6/6 [==============================] - 2s 325ms/step - loss: 0.0032 - val_loss: 0.0041\n",
      "Epoch 34/50\n",
      "6/6 [==============================] - 2s 288ms/step - loss: 0.0032 - val_loss: 0.0039\n",
      "Epoch 35/50\n",
      "6/6 [==============================] - 2s 318ms/step - loss: 0.0031 - val_loss: 0.0037\n",
      "Epoch 36/50\n",
      "6/6 [==============================] - 2s 342ms/step - loss: 0.0031 - val_loss: 0.0037\n",
      "Epoch 37/50\n",
      "6/6 [==============================] - 2s 301ms/step - loss: 0.0030 - val_loss: 0.0037\n",
      "Epoch 38/50\n",
      "6/6 [==============================] - 2s 292ms/step - loss: 0.0030 - val_loss: 0.0036\n",
      "Epoch 39/50\n",
      "6/6 [==============================] - 2s 289ms/step - loss: 0.0030 - val_loss: 0.0036\n",
      "Epoch 40/50\n",
      "6/6 [==============================] - 2s 279ms/step - loss: 0.0030 - val_loss: 0.0036\n",
      "Epoch 41/50\n",
      "6/6 [==============================] - 2s 280ms/step - loss: 0.0030 - val_loss: 0.0036\n",
      "Epoch 42/50\n",
      "6/6 [==============================] - 2s 283ms/step - loss: 0.0029 - val_loss: 0.0035\n",
      "Epoch 43/50\n",
      "6/6 [==============================] - 2s 287ms/step - loss: 0.0029 - val_loss: 0.0036\n",
      "Epoch 44/50\n",
      "6/6 [==============================] - 2s 292ms/step - loss: 0.0029 - val_loss: 0.0036\n",
      "Epoch 45/50\n",
      "6/6 [==============================] - 2s 285ms/step - loss: 0.0029 - val_loss: 0.0035\n",
      "Epoch 46/50\n",
      "6/6 [==============================] - 2s 294ms/step - loss: 0.0029 - val_loss: 0.0035\n",
      "Epoch 47/50\n",
      "6/6 [==============================] - 2s 284ms/step - loss: 0.0029 - val_loss: 0.0037\n",
      "Epoch 48/50\n",
      "6/6 [==============================] - 2s 300ms/step - loss: 0.0032 - val_loss: 0.0035\n",
      "Epoch 49/50\n",
      "6/6 [==============================] - 2s 297ms/step - loss: 0.0031 - val_loss: 0.0037\n",
      "Epoch 50/50\n",
      "6/6 [==============================] - 2s 300ms/step - loss: 0.0035 - val_loss: 0.0039\n"
     ]
    },
    {
     "data": {
      "text/plain": [
       "<keras.callbacks.History at 0x1a68ff099d0>"
      ]
     },
     "execution_count": 29,
     "metadata": {},
     "output_type": "execute_result"
    }
   ],
   "source": [
    "#We trained the model with adam optimizer and mean squared error loss function\n",
    "model.compile(loss='mean_squared_error',optimizer='adam')\n",
    "model.fit(X_train,y_train,validation_data=(X_test,y_test),epochs=50,batch_size=128,verbose=1)"
   ]
  },
  {
   "cell_type": "code",
   "execution_count": 30,
   "id": "a43b846c",
   "metadata": {},
   "outputs": [],
   "source": [
    "model.save('keras.model.h5')"
   ]
  },
  {
   "cell_type": "code",
   "execution_count": 31,
   "id": "18b1ba6a",
   "metadata": {},
   "outputs": [
    {
     "data": {
      "text/plain": [
       "[<matplotlib.lines.Line2D at 0x1a68fec5df0>]"
      ]
     },
     "execution_count": 31,
     "metadata": {},
     "output_type": "execute_result"
    },
    {
     "data": {
      "image/png": "[encoded data removed]",
      "text/plain": [
       "<Figure size 432x288 with 1 Axes>"
      ]
     },
     "metadata": {
      "needs_background": "light"
     },
     "output_type": "display_data"
    }
   ],
   "source": [
    "#While pLotting loss, we found that loss has decreased significantly and the model has been trained well\n",
    "loss = model.history.history['loss']\n",
    "plt.plot(loss)"
   ]
  },
  {
   "cell_type": "code",
   "execution_count": 32,
   "id": "3e7f2fc8",
   "metadata": {},
   "outputs": [],
   "source": [
    "train_predict = model.predict(X_train)\n",
    "test_predict = model.predict(X_test)"
   ]
  },
  {
   "cell_type": "code",
   "execution_count": 33,
   "id": "c2d6c2d5",
   "metadata": {},
   "outputs": [],
   "source": [
    "#Inverse transform to get actual value\n",
    "train_predict = normalizer.inverse_transform(train_predict)\n",
    "test_predict = normalizer.inverse_transform(test_predict)"
   ]
  },
  {
   "cell_type": "code",
   "execution_count": 34,
   "id": "9d0543ad",
   "metadata": {},
   "outputs": [
    {
     "data": {
      "text/plain": [
       "[<matplotlib.lines.Line2D at 0x1a698e7feb0>]"
      ]
     },
     "execution_count": 34,
     "metadata": {},
     "output_type": "execute_result"
    },
    {
     "data": {
      "image/png": "[encoded data removed]",
      "text/plain": [
       "<Figure size 432x288 with 1 Axes>"
      ]
     },
     "metadata": {
      "needs_background": "light"
     },
     "output_type": "display_data"
    }
   ],
   "source": [
    "#Comparing using visuals\n",
    "plt.plot(normalizer.inverse_transform(ds_scaled)) #Blue line\n",
    "plt.plot(train_predict) #Orange line\n",
    "plt.plot(test_predict) #Green line"
   ]
  },
  {
   "cell_type": "code",
   "execution_count": 35,
   "id": "55300bae",
   "metadata": {},
   "outputs": [
    {
     "data": {
      "text/plain": [
       "numpy.ndarray"
      ]
     },
     "execution_count": 35,
     "metadata": {},
     "output_type": "execute_result"
    }
   ],
   "source": [
    "type(train_predict)"
   ]
  },
  {
   "cell_type": "code",
   "execution_count": 36,
   "id": "bf6d5613",
   "metadata": {},
   "outputs": [],
   "source": [
    "test = np.vstack((train_predict,test_predict))"
   ]
  },
  {
   "cell_type": "code",
   "execution_count": 37,
   "id": "41b272ff",
   "metadata": {},
   "outputs": [
    {
     "data": {
      "text/plain": [
       "[<matplotlib.lines.Line2D at 0x1a698ee0400>]"
      ]
     },
     "execution_count": 37,
     "metadata": {},
     "output_type": "execute_result"
    },
    {
     "data": {
      "image/png": "[encoded data removed]",
      "text/plain": [
       "<Figure size 432x288 with 1 Axes>"
      ]
     },
     "metadata": {
      "needs_background": "light"
     },
     "output_type": "display_data"
    }
   ],
   "source": [
    "#Combining the predicted data to create uniform data visualization\n",
    "plt.plot(normalizer.inverse_transform(ds_scaled))\n",
    "plt.plot(test)"
   ]
  },
  {
   "cell_type": "code",
   "execution_count": 38,
   "id": "16af9283",
   "metadata": {},
   "outputs": [
    {
     "data": {
      "text/plain": [
       "370"
      ]
     },
     "execution_count": 38,
     "metadata": {},
     "output_type": "execute_result"
    }
   ],
   "source": [
    "len(ds_test)"
   ]
  },
  {
   "cell_type": "code",
   "execution_count": 39,
   "id": "acb5e5a4",
   "metadata": {},
   "outputs": [
    {
     "data": {
      "text/plain": [
       "370"
      ]
     },
     "execution_count": 39,
     "metadata": {},
     "output_type": "execute_result"
    }
   ],
   "source": [
    "ds_test.size"
   ]
  },
  {
   "cell_type": "code",
   "execution_count": 84,
   "id": "c13df7b8",
   "metadata": {},
   "outputs": [],
   "source": [
    "#We are going to analyse the last 100 days records\n",
    "fut_inp = ds_test[ds_test.size-100:]"
   ]
  },
  {
   "cell_type": "code",
   "execution_count": 85,
   "id": "52b30579",
   "metadata": {},
   "outputs": [],
   "source": [
    "fut_inp = fut_inp.reshape(1,-1)"
   ]
  },
  {
   "cell_type": "code",
   "execution_count": 86,
   "id": "ac2686a6",
   "metadata": {},
   "outputs": [],
   "source": [
    "tmp_inp = list(fut_inp)"
   ]
  },
  {
   "cell_type": "code",
   "execution_count": 87,
   "id": "dad5024f",
   "metadata": {},
   "outputs": [
    {
     "data": {
      "text/plain": [
       "(1, 100)"
      ]
     },
     "execution_count": 87,
     "metadata": {},
     "output_type": "execute_result"
    }
   ],
   "source": [
    "fut_inp.shape"
   ]
  },
  {
   "cell_type": "code",
   "execution_count": 88,
   "id": "98042a30",
   "metadata": {},
   "outputs": [],
   "source": [
    "#Creating list of the last 100 data\n",
    "tmp_inp = tmp_inp[0].tolist()"
   ]
  },
  {
   "cell_type": "code",
   "execution_count": 89,
   "id": "44799d02",
   "metadata": {},
   "outputs": [
    {
     "name": "stdout",
     "output_type": "stream",
     "text": [
      "[[0.62204509973526], [0.6292381882667542], [0.6343668103218079], [0.6376550197601318], [0.6394093036651611], [0.639948308467865], [0.639562726020813], [0.6384968161582947], [0.6369426846504211], [0.6350427865982056], [0.6328988671302795], [0.6305787563323975], [0.6281265020370483], [0.6255686283111572], [0.622920036315918], [0.6201893091201782], [0.6173802614212036], [0.6144964098930359], [0.6115391850471497], [0.6085113883018494], [0.6054157018661499], [0.6022552251815796], [0.5990338325500488], [0.5957557559013367], [0.5924252867698669], [0.5890465378761292], [0.5856239795684814], [0.5821618437767029], [0.5786641836166382], [0.5751349329948425]]\n"
     ]
    }
   ],
   "source": [
    "#Predicting next 30 days price using the current data, It will predict in sliding window manner algorithm with stride 1\n",
    "lst_output=[]\n",
    "n_steps=100\n",
    "i=0\n",
    "while(i<30):\n",
    "    \n",
    "    if(len(tmp_inp)>100):\n",
    "        fut_inp = np.array(tmp_inp[1:])\n",
    "        fut_inp=fut_inp.reshape(1,-1)\n",
    "        fut_inp = fut_inp.reshape((1, n_steps, 1))\n",
    "        yhat = model.predict(fut_inp, verbose=0)\n",
    "        tmp_inp.extend(yhat[0].tolist())\n",
    "        tmp_inp = tmp_inp[1:]\n",
    "        lst_output.extend(yhat.tolist())\n",
    "        i=i+1\n",
    "    else:\n",
    "        fut_inp = fut_inp.reshape((1, n_steps,1))\n",
    "        yhat = model.predict(fut_inp, verbose=0)\n",
    "        tmp_inp.extend(yhat[0].tolist())\n",
    "        lst_output.extend(yhat.tolist())\n",
    "        i=i+1\n",
    "    \n",
    "\n",
    "print(lst_output)"
   ]
  },
  {
   "cell_type": "code",
   "execution_count": 90,
   "id": "d49a83e5",
   "metadata": {},
   "outputs": [
    {
     "data": {
      "text/plain": [
       "1235"
      ]
     },
     "execution_count": 90,
     "metadata": {},
     "output_type": "execute_result"
    }
   ],
   "source": [
    "len(ds_scaled)"
   ]
  },
  {
   "cell_type": "code",
   "execution_count": 91,
   "id": "49450ea7",
   "metadata": {},
   "outputs": [],
   "source": [
    "#Creating a dummy plane to plot graph one after another\n",
    "plot_new=np.arange(1,101)\n",
    "plot_pred=np.arange(101,131)"
   ]
  },
  {
   "cell_type": "code",
   "execution_count": 92,
   "id": "29f84e31",
   "metadata": {},
   "outputs": [
    {
     "data": {
      "text/plain": [
       "[<matplotlib.lines.Line2D at 0x1a69c8459a0>]"
      ]
     },
     "execution_count": 92,
     "metadata": {},
     "output_type": "execute_result"
    },
    {
     "data": {
      "image/png": "[encoded data removed]",
      "text/plain": [
       "<Figure size 432x288 with 1 Axes>"
      ]
     },
     "metadata": {
      "needs_background": "light"
     },
     "output_type": "display_data"
    }
   ],
   "source": [
    "plt.plot(plot_new, normalizer.inverse_transform(ds_scaled[ds_scaled.size-100:]))\n",
    "plt.plot(plot_pred, normalizer.inverse_transform(lst_output))"
   ]
  },
  {
   "cell_type": "code",
   "execution_count": 93,
   "id": "e41c9362",
   "metadata": {},
   "outputs": [],
   "source": [
    "ds_new = ds_scaled.tolist()"
   ]
  },
  {
   "cell_type": "code",
   "execution_count": 94,
   "id": "d6c8d3c1",
   "metadata": {},
   "outputs": [
    {
     "data": {
      "text/plain": [
       "1235"
      ]
     },
     "execution_count": 94,
     "metadata": {},
     "output_type": "execute_result"
    }
   ],
   "source": [
    "len(ds_new)"
   ]
  },
  {
   "cell_type": "code",
   "execution_count": 95,
   "id": "24e99607",
   "metadata": {},
   "outputs": [
    {
     "data": {
      "text/plain": [
       "[<matplotlib.lines.Line2D at 0x1a69c8892e0>]"
      ]
     },
     "execution_count": 95,
     "metadata": {},
     "output_type": "execute_result"
    },
    {
     "data": {
      "image/png": "[encoded data removed]",
      "text/plain": [
       "<Figure size 432x288 with 1 Axes>"
      ]
     },
     "metadata": {
      "needs_background": "light"
     },
     "output_type": "display_data"
    }
   ],
   "source": [
    "#Entends helps us to fill the missing value with approx value\n",
    "ds_new.extend(lst_output)\n",
    "plt.plot(ds_new[1200:])"
   ]
  },
  {
   "cell_type": "code",
   "execution_count": 96,
   "id": "7f04f058",
   "metadata": {},
   "outputs": [],
   "source": [
    "#Creating final data for plotting\n",
    "final_graph = normalizer.inverse_transform(ds_new).tolist()"
   ]
  },
  {
   "cell_type": "code",
   "execution_count": 98,
   "id": "1e6fd701",
   "metadata": {},
   "outputs": [
    {
     "data": {
      "text/plain": [
       "<matplotlib.legend.Legend at 0x1a69c7f49a0>"
      ]
     },
     "execution_count": 98,
     "metadata": {},
     "output_type": "execute_result"
    },
    {
     "data": {
      "image/png": "[encoded data removed]",
      "text/plain": [
       "<Figure size 432x288 with 1 Axes>"
      ]
     },
     "metadata": {
      "needs_background": "light"
     },
     "output_type": "display_data"
    }
   ],
   "source": [
    "plt.plot(final_graph,)\n",
    "plt.ylabel(\"Price\")\n",
    "plt.xlabel(\"Days\")\n",
    "#plt.title(\"{0} prediction of next month open\".format(options))\n",
    "plt.axhline(y=final_graph[len(final_graph)-1], color = 'red', linestyle = ':', label = 'NEXT 30D: {0}'.format(round(float(*final_graph[len(final_graph)-1]),2)))\n",
    "plt.legend()"
   ]
  },
  {
   "cell_type": "code",
   "execution_count": null,
   "id": "4e76ba17",
   "metadata": {},
   "outputs": [],
   "source": []
  }
 ],
 "metadata": {
  "kernelspec": {
   "display_name": "Python 3 (ipykernel)",
   "language": "python",
   "name": "python3"
  },
  "language_info": {
   "codemirror_mode": {
    "name": "ipython",
    "version": 3
   },
   "file_extension": ".py",
   "mimetype": "text/x-python",
   "name": "python",
   "nbconvert_exporter": "python",
   "pygments_lexer": "ipython3",
   "version": "3.9.7"
  }
 },
 "nbformat": 4,
 "nbformat_minor": 5
}
